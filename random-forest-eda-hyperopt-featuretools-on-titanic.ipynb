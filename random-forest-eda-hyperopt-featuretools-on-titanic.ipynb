{
 "cells": [
  {
   "cell_type": "code",
   "execution_count": 1,
   "id": "invalid-overhead",
   "metadata": {
    "execution": {
     "iopub.execute_input": "2021-04-04T08:40:11.051356Z",
     "iopub.status.busy": "2021-04-04T08:40:11.050220Z",
     "iopub.status.idle": "2021-04-04T08:40:12.681772Z",
     "shell.execute_reply": "2021-04-04T08:40:12.680995Z"
    },
    "papermill": {
     "duration": 1.678688,
     "end_time": "2021-04-04T08:40:12.681933",
     "exception": false,
     "start_time": "2021-04-04T08:40:11.003245",
     "status": "completed"
    },
    "tags": []
   },
   "outputs": [],
   "source": [
    "import numpy as np\n",
    "import pandas as pd\n",
    "import os\n",
    "import matplotlib.pyplot as plt\n",
    "import seaborn as sns\n",
    "import featuretools as ft"
   ]
  },
  {
   "cell_type": "code",
   "execution_count": 2,
   "id": "matched-croatia",
   "metadata": {
    "execution": {
     "iopub.execute_input": "2021-04-04T08:40:12.774652Z",
     "iopub.status.busy": "2021-04-04T08:40:12.774012Z",
     "iopub.status.idle": "2021-04-04T08:40:12.801167Z",
     "shell.execute_reply": "2021-04-04T08:40:12.800444Z"
    },
    "papermill": {
     "duration": 0.078166,
     "end_time": "2021-04-04T08:40:12.801304",
     "exception": false,
     "start_time": "2021-04-04T08:40:12.723138",
     "status": "completed"
    },
    "tags": []
   },
   "outputs": [],
   "source": [
    "train = pd.read_csv(os.path.join('../input/titanic','train.csv'))\n",
    "test = pd.read_csv(os.path.join('../input/titanic','test.csv'))"
   ]
  },
  {
   "cell_type": "code",
   "execution_count": 3,
   "id": "particular-arlington",
   "metadata": {
    "execution": {
     "iopub.execute_input": "2021-04-04T08:40:12.898289Z",
     "iopub.status.busy": "2021-04-04T08:40:12.897672Z",
     "iopub.status.idle": "2021-04-04T08:40:12.899762Z",
     "shell.execute_reply": "2021-04-04T08:40:12.900319Z"
    },
    "papermill": {
     "duration": 0.05779,
     "end_time": "2021-04-04T08:40:12.900486",
     "exception": false,
     "start_time": "2021-04-04T08:40:12.842696",
     "status": "completed"
    },
    "tags": []
   },
   "outputs": [],
   "source": [
    "test_Passengerid = test['PassengerId']   # Will be Required for the Submission"
   ]
  },
  {
   "cell_type": "code",
   "execution_count": 4,
   "id": "settled-reflection",
   "metadata": {
    "execution": {
     "iopub.execute_input": "2021-04-04T08:40:12.985313Z",
     "iopub.status.busy": "2021-04-04T08:40:12.984729Z",
     "iopub.status.idle": "2021-04-04T08:40:13.009709Z",
     "shell.execute_reply": "2021-04-04T08:40:13.010181Z"
    },
    "papermill": {
     "duration": 0.069116,
     "end_time": "2021-04-04T08:40:13.010337",
     "exception": false,
     "start_time": "2021-04-04T08:40:12.941221",
     "status": "completed"
    },
    "tags": []
   },
   "outputs": [
    {
     "data": {
      "text/html": [
       "<div>\n",
       "<style scoped>\n",
       "    .dataframe tbody tr th:only-of-type {\n",
       "        vertical-align: middle;\n",
       "    }\n",
       "\n",
       "    .dataframe tbody tr th {\n",
       "        vertical-align: top;\n",
       "    }\n",
       "\n",
       "    .dataframe thead th {\n",
       "        text-align: right;\n",
       "    }\n",
       "</style>\n",
       "<table border=\"1\" class=\"dataframe\">\n",
       "  <thead>\n",
       "    <tr style=\"text-align: right;\">\n",
       "      <th></th>\n",
       "      <th>PassengerId</th>\n",
       "      <th>Survived</th>\n",
       "      <th>Pclass</th>\n",
       "      <th>Name</th>\n",
       "      <th>Sex</th>\n",
       "      <th>Age</th>\n",
       "      <th>SibSp</th>\n",
       "      <th>Parch</th>\n",
       "      <th>Ticket</th>\n",
       "      <th>Fare</th>\n",
       "      <th>Cabin</th>\n",
       "      <th>Embarked</th>\n",
       "    </tr>\n",
       "  </thead>\n",
       "  <tbody>\n",
       "    <tr>\n",
       "      <th>0</th>\n",
       "      <td>1</td>\n",
       "      <td>0</td>\n",
       "      <td>3</td>\n",
       "      <td>Braund, Mr. Owen Harris</td>\n",
       "      <td>male</td>\n",
       "      <td>22.0</td>\n",
       "      <td>1</td>\n",
       "      <td>0</td>\n",
       "      <td>A/5 21171</td>\n",
       "      <td>7.2500</td>\n",
       "      <td>NaN</td>\n",
       "      <td>S</td>\n",
       "    </tr>\n",
       "    <tr>\n",
       "      <th>1</th>\n",
       "      <td>2</td>\n",
       "      <td>1</td>\n",
       "      <td>1</td>\n",
       "      <td>Cumings, Mrs. John Bradley (Florence Briggs Th...</td>\n",
       "      <td>female</td>\n",
       "      <td>38.0</td>\n",
       "      <td>1</td>\n",
       "      <td>0</td>\n",
       "      <td>PC 17599</td>\n",
       "      <td>71.2833</td>\n",
       "      <td>C85</td>\n",
       "      <td>C</td>\n",
       "    </tr>\n",
       "    <tr>\n",
       "      <th>2</th>\n",
       "      <td>3</td>\n",
       "      <td>1</td>\n",
       "      <td>3</td>\n",
       "      <td>Heikkinen, Miss. Laina</td>\n",
       "      <td>female</td>\n",
       "      <td>26.0</td>\n",
       "      <td>0</td>\n",
       "      <td>0</td>\n",
       "      <td>STON/O2. 3101282</td>\n",
       "      <td>7.9250</td>\n",
       "      <td>NaN</td>\n",
       "      <td>S</td>\n",
       "    </tr>\n",
       "    <tr>\n",
       "      <th>3</th>\n",
       "      <td>4</td>\n",
       "      <td>1</td>\n",
       "      <td>1</td>\n",
       "      <td>Futrelle, Mrs. Jacques Heath (Lily May Peel)</td>\n",
       "      <td>female</td>\n",
       "      <td>35.0</td>\n",
       "      <td>1</td>\n",
       "      <td>0</td>\n",
       "      <td>113803</td>\n",
       "      <td>53.1000</td>\n",
       "      <td>C123</td>\n",
       "      <td>S</td>\n",
       "    </tr>\n",
       "    <tr>\n",
       "      <th>4</th>\n",
       "      <td>5</td>\n",
       "      <td>0</td>\n",
       "      <td>3</td>\n",
       "      <td>Allen, Mr. William Henry</td>\n",
       "      <td>male</td>\n",
       "      <td>35.0</td>\n",
       "      <td>0</td>\n",
       "      <td>0</td>\n",
       "      <td>373450</td>\n",
       "      <td>8.0500</td>\n",
       "      <td>NaN</td>\n",
       "      <td>S</td>\n",
       "    </tr>\n",
       "  </tbody>\n",
       "</table>\n",
       "</div>"
      ],
      "text/plain": [
       "   PassengerId  Survived  Pclass  \\\n",
       "0            1         0       3   \n",
       "1            2         1       1   \n",
       "2            3         1       3   \n",
       "3            4         1       1   \n",
       "4            5         0       3   \n",
       "\n",
       "                                                Name     Sex   Age  SibSp  \\\n",
       "0                            Braund, Mr. Owen Harris    male  22.0      1   \n",
       "1  Cumings, Mrs. John Bradley (Florence Briggs Th...  female  38.0      1   \n",
       "2                             Heikkinen, Miss. Laina  female  26.0      0   \n",
       "3       Futrelle, Mrs. Jacques Heath (Lily May Peel)  female  35.0      1   \n",
       "4                           Allen, Mr. William Henry    male  35.0      0   \n",
       "\n",
       "   Parch            Ticket     Fare Cabin Embarked  \n",
       "0      0         A/5 21171   7.2500   NaN        S  \n",
       "1      0          PC 17599  71.2833   C85        C  \n",
       "2      0  STON/O2. 3101282   7.9250   NaN        S  \n",
       "3      0            113803  53.1000  C123        S  \n",
       "4      0            373450   8.0500   NaN        S  "
      ]
     },
     "execution_count": 4,
     "metadata": {},
     "output_type": "execute_result"
    }
   ],
   "source": [
    "train.head()"
   ]
  },
  {
   "cell_type": "code",
   "execution_count": 5,
   "id": "widespread-college",
   "metadata": {
    "execution": {
     "iopub.execute_input": "2021-04-04T08:40:13.098665Z",
     "iopub.status.busy": "2021-04-04T08:40:13.098052Z",
     "iopub.status.idle": "2021-04-04T08:40:13.107151Z",
     "shell.execute_reply": "2021-04-04T08:40:13.107632Z"
    },
    "papermill": {
     "duration": 0.054481,
     "end_time": "2021-04-04T08:40:13.107802",
     "exception": false,
     "start_time": "2021-04-04T08:40:13.053321",
     "status": "completed"
    },
    "tags": []
   },
   "outputs": [],
   "source": [
    "test['Survived'] = np.nan\n",
    "data = train.append(test,ignore_index = True)"
   ]
  },
  {
   "cell_type": "code",
   "execution_count": 6,
   "id": "worse-delight",
   "metadata": {
    "execution": {
     "iopub.execute_input": "2021-04-04T08:40:13.194481Z",
     "iopub.status.busy": "2021-04-04T08:40:13.193830Z",
     "iopub.status.idle": "2021-04-04T08:40:13.225602Z",
     "shell.execute_reply": "2021-04-04T08:40:13.226109Z"
    },
    "papermill": {
     "duration": 0.076624,
     "end_time": "2021-04-04T08:40:13.226272",
     "exception": false,
     "start_time": "2021-04-04T08:40:13.149648",
     "status": "completed"
    },
    "tags": []
   },
   "outputs": [
    {
     "data": {
      "text/html": [
       "<div>\n",
       "<style scoped>\n",
       "    .dataframe tbody tr th:only-of-type {\n",
       "        vertical-align: middle;\n",
       "    }\n",
       "\n",
       "    .dataframe tbody tr th {\n",
       "        vertical-align: top;\n",
       "    }\n",
       "\n",
       "    .dataframe thead th {\n",
       "        text-align: right;\n",
       "    }\n",
       "</style>\n",
       "<table border=\"1\" class=\"dataframe\">\n",
       "  <thead>\n",
       "    <tr style=\"text-align: right;\">\n",
       "      <th></th>\n",
       "      <th>PassengerId</th>\n",
       "      <th>Survived</th>\n",
       "      <th>Pclass</th>\n",
       "      <th>Age</th>\n",
       "      <th>SibSp</th>\n",
       "      <th>Parch</th>\n",
       "      <th>Fare</th>\n",
       "    </tr>\n",
       "  </thead>\n",
       "  <tbody>\n",
       "    <tr>\n",
       "      <th>count</th>\n",
       "      <td>1309.000000</td>\n",
       "      <td>891.000000</td>\n",
       "      <td>1309.000000</td>\n",
       "      <td>1046.000000</td>\n",
       "      <td>1309.000000</td>\n",
       "      <td>1309.000000</td>\n",
       "      <td>1308.000000</td>\n",
       "    </tr>\n",
       "    <tr>\n",
       "      <th>mean</th>\n",
       "      <td>655.000000</td>\n",
       "      <td>0.383838</td>\n",
       "      <td>2.294882</td>\n",
       "      <td>29.881138</td>\n",
       "      <td>0.498854</td>\n",
       "      <td>0.385027</td>\n",
       "      <td>33.295479</td>\n",
       "    </tr>\n",
       "    <tr>\n",
       "      <th>std</th>\n",
       "      <td>378.020061</td>\n",
       "      <td>0.486592</td>\n",
       "      <td>0.837836</td>\n",
       "      <td>14.413493</td>\n",
       "      <td>1.041658</td>\n",
       "      <td>0.865560</td>\n",
       "      <td>51.758668</td>\n",
       "    </tr>\n",
       "    <tr>\n",
       "      <th>min</th>\n",
       "      <td>1.000000</td>\n",
       "      <td>0.000000</td>\n",
       "      <td>1.000000</td>\n",
       "      <td>0.170000</td>\n",
       "      <td>0.000000</td>\n",
       "      <td>0.000000</td>\n",
       "      <td>0.000000</td>\n",
       "    </tr>\n",
       "    <tr>\n",
       "      <th>25%</th>\n",
       "      <td>328.000000</td>\n",
       "      <td>0.000000</td>\n",
       "      <td>2.000000</td>\n",
       "      <td>21.000000</td>\n",
       "      <td>0.000000</td>\n",
       "      <td>0.000000</td>\n",
       "      <td>7.895800</td>\n",
       "    </tr>\n",
       "    <tr>\n",
       "      <th>50%</th>\n",
       "      <td>655.000000</td>\n",
       "      <td>0.000000</td>\n",
       "      <td>3.000000</td>\n",
       "      <td>28.000000</td>\n",
       "      <td>0.000000</td>\n",
       "      <td>0.000000</td>\n",
       "      <td>14.454200</td>\n",
       "    </tr>\n",
       "    <tr>\n",
       "      <th>75%</th>\n",
       "      <td>982.000000</td>\n",
       "      <td>1.000000</td>\n",
       "      <td>3.000000</td>\n",
       "      <td>39.000000</td>\n",
       "      <td>1.000000</td>\n",
       "      <td>0.000000</td>\n",
       "      <td>31.275000</td>\n",
       "    </tr>\n",
       "    <tr>\n",
       "      <th>max</th>\n",
       "      <td>1309.000000</td>\n",
       "      <td>1.000000</td>\n",
       "      <td>3.000000</td>\n",
       "      <td>80.000000</td>\n",
       "      <td>8.000000</td>\n",
       "      <td>9.000000</td>\n",
       "      <td>512.329200</td>\n",
       "    </tr>\n",
       "  </tbody>\n",
       "</table>\n",
       "</div>"
      ],
      "text/plain": [
       "       PassengerId    Survived       Pclass          Age        SibSp  \\\n",
       "count  1309.000000  891.000000  1309.000000  1046.000000  1309.000000   \n",
       "mean    655.000000    0.383838     2.294882    29.881138     0.498854   \n",
       "std     378.020061    0.486592     0.837836    14.413493     1.041658   \n",
       "min       1.000000    0.000000     1.000000     0.170000     0.000000   \n",
       "25%     328.000000    0.000000     2.000000    21.000000     0.000000   \n",
       "50%     655.000000    0.000000     3.000000    28.000000     0.000000   \n",
       "75%     982.000000    1.000000     3.000000    39.000000     1.000000   \n",
       "max    1309.000000    1.000000     3.000000    80.000000     8.000000   \n",
       "\n",
       "             Parch         Fare  \n",
       "count  1309.000000  1308.000000  \n",
       "mean      0.385027    33.295479  \n",
       "std       0.865560    51.758668  \n",
       "min       0.000000     0.000000  \n",
       "25%       0.000000     7.895800  \n",
       "50%       0.000000    14.454200  \n",
       "75%       0.000000    31.275000  \n",
       "max       9.000000   512.329200  "
      ]
     },
     "execution_count": 6,
     "metadata": {},
     "output_type": "execute_result"
    }
   ],
   "source": [
    "data.describe()"
   ]
  },
  {
   "cell_type": "code",
   "execution_count": 7,
   "id": "legitimate-acting",
   "metadata": {
    "execution": {
     "iopub.execute_input": "2021-04-04T08:40:13.314079Z",
     "iopub.status.busy": "2021-04-04T08:40:13.313389Z",
     "iopub.status.idle": "2021-04-04T08:40:13.330176Z",
     "shell.execute_reply": "2021-04-04T08:40:13.330832Z"
    },
    "papermill": {
     "duration": 0.062471,
     "end_time": "2021-04-04T08:40:13.331074",
     "exception": false,
     "start_time": "2021-04-04T08:40:13.268603",
     "status": "completed"
    },
    "tags": []
   },
   "outputs": [
    {
     "name": "stdout",
     "output_type": "stream",
     "text": [
      "<class 'pandas.core.frame.DataFrame'>\n",
      "RangeIndex: 1309 entries, 0 to 1308\n",
      "Data columns (total 12 columns):\n",
      " #   Column       Non-Null Count  Dtype  \n",
      "---  ------       --------------  -----  \n",
      " 0   PassengerId  1309 non-null   int64  \n",
      " 1   Survived     891 non-null    float64\n",
      " 2   Pclass       1309 non-null   int64  \n",
      " 3   Name         1309 non-null   object \n",
      " 4   Sex          1309 non-null   object \n",
      " 5   Age          1046 non-null   float64\n",
      " 6   SibSp        1309 non-null   int64  \n",
      " 7   Parch        1309 non-null   int64  \n",
      " 8   Ticket       1309 non-null   object \n",
      " 9   Fare         1308 non-null   float64\n",
      " 10  Cabin        295 non-null    object \n",
      " 11  Embarked     1307 non-null   object \n",
      "dtypes: float64(3), int64(4), object(5)\n",
      "memory usage: 122.8+ KB\n"
     ]
    }
   ],
   "source": [
    "data.info()"
   ]
  },
  {
   "cell_type": "code",
   "execution_count": 8,
   "id": "simplified-depth",
   "metadata": {
    "execution": {
     "iopub.execute_input": "2021-04-04T08:40:13.423217Z",
     "iopub.status.busy": "2021-04-04T08:40:13.422557Z",
     "iopub.status.idle": "2021-04-04T08:40:13.426979Z",
     "shell.execute_reply": "2021-04-04T08:40:13.427400Z"
    },
    "papermill": {
     "duration": 0.052827,
     "end_time": "2021-04-04T08:40:13.427577",
     "exception": false,
     "start_time": "2021-04-04T08:40:13.374750",
     "status": "completed"
    },
    "tags": []
   },
   "outputs": [
    {
     "data": {
      "text/plain": [
       "Index(['PassengerId', 'Survived', 'Pclass', 'Name', 'Sex', 'Age', 'SibSp',\n",
       "       'Parch', 'Ticket', 'Fare', 'Cabin', 'Embarked'],\n",
       "      dtype='object')"
      ]
     },
     "execution_count": 8,
     "metadata": {},
     "output_type": "execute_result"
    }
   ],
   "source": [
    "data.columns"
   ]
  },
  {
   "cell_type": "code",
   "execution_count": 9,
   "id": "particular-coverage",
   "metadata": {
    "execution": {
     "iopub.execute_input": "2021-04-04T08:40:13.518243Z",
     "iopub.status.busy": "2021-04-04T08:40:13.517662Z",
     "iopub.status.idle": "2021-04-04T08:40:13.522465Z",
     "shell.execute_reply": "2021-04-04T08:40:13.522978Z"
    },
    "papermill": {
     "duration": 0.051407,
     "end_time": "2021-04-04T08:40:13.523134",
     "exception": false,
     "start_time": "2021-04-04T08:40:13.471727",
     "status": "completed"
    },
    "tags": []
   },
   "outputs": [],
   "source": [
    "data.drop(['PassengerId','Name'],inplace=True,axis = 1)  # Common Ones to remove"
   ]
  },
  {
   "cell_type": "code",
   "execution_count": 10,
   "id": "ecological-breakdown",
   "metadata": {
    "execution": {
     "iopub.execute_input": "2021-04-04T08:40:13.614579Z",
     "iopub.status.busy": "2021-04-04T08:40:13.613930Z",
     "iopub.status.idle": "2021-04-04T08:40:13.821182Z",
     "shell.execute_reply": "2021-04-04T08:40:13.820577Z"
    },
    "papermill": {
     "duration": 0.254341,
     "end_time": "2021-04-04T08:40:13.821328",
     "exception": false,
     "start_time": "2021-04-04T08:40:13.566987",
     "status": "completed"
    },
    "tags": []
   },
   "outputs": [
    {
     "data": {
      "text/plain": [
       "Text(0, 0.5, '# Number of Feature with desired no.of counts')"
      ]
     },
     "execution_count": 10,
     "metadata": {},
     "output_type": "execute_result"
    },
    {
     "data": {
      "image/png": "[encoded data removed]",
      "text/plain": [
       "<Figure size 720x576 with 1 Axes>"
      ]
     },
     "metadata": {
      "needs_background": "light"
     },
     "output_type": "display_data"
    }
   ],
   "source": [
    "data.select_dtypes('object').nunique().value_counts().sort_index().plot(kind = 'bar',edgecolor = 'black',color = 'red',figsize = (10,8))\n",
    "plt.xlabel(\"# Unique Counts present in the Feature\")\n",
    "plt.ylabel(\"# Number of Feature with desired no.of counts\")"
   ]
  },
  {
   "cell_type": "code",
   "execution_count": 11,
   "id": "amber-nickel",
   "metadata": {
    "execution": {
     "iopub.execute_input": "2021-04-04T08:40:13.918630Z",
     "iopub.status.busy": "2021-04-04T08:40:13.917861Z",
     "iopub.status.idle": "2021-04-04T08:40:14.065610Z",
     "shell.execute_reply": "2021-04-04T08:40:14.064945Z"
    },
    "papermill": {
     "duration": 0.19875,
     "end_time": "2021-04-04T08:40:14.065770",
     "exception": false,
     "start_time": "2021-04-04T08:40:13.867020",
     "status": "completed"
    },
    "tags": []
   },
   "outputs": [],
   "source": [
    "from sklearn.preprocessing import LabelEncoder\n",
    "columns = data.select_dtypes('object').columns\n",
    "data[columns] = data.select_dtypes('object').apply(LabelEncoder().fit_transform)  # One direct way of Encoding \n",
    "# Another Way : OneHotEncoder().fit_transform(df) or LabelEncoder().fit_transform(df)"
   ]
  },
  {
   "cell_type": "code",
   "execution_count": 12,
   "id": "great-ending",
   "metadata": {
    "execution": {
     "iopub.execute_input": "2021-04-04T08:40:14.171237Z",
     "iopub.status.busy": "2021-04-04T08:40:14.170303Z",
     "iopub.status.idle": "2021-04-04T08:40:14.173732Z",
     "shell.execute_reply": "2021-04-04T08:40:14.173196Z"
    },
    "papermill": {
     "duration": 0.062846,
     "end_time": "2021-04-04T08:40:14.173861",
     "exception": false,
     "start_time": "2021-04-04T08:40:14.111015",
     "status": "completed"
    },
    "tags": []
   },
   "outputs": [],
   "source": [
    "# Lets Reduce the Size of the dataset\n",
    "\n",
    "def Reduce_Me(dataset):\n",
    "    Initial = data.memory_usage().sum()/ 1024**2\n",
    "    print(\"Initial Memory : {:.2f} MB\".format(Initial))\n",
    "    Columns = dataset.columns\n",
    "    for column in Columns:\n",
    "        Dtype = str(data[column].dtype)\n",
    "        \n",
    "        min_ = data[column].min()\n",
    "        max_ = data[column].max()\n",
    "            \n",
    "        if 'int' in Dtype:\n",
    "            if min_ > np.iinfo(np.int8).min and max_ < np.iinfo(np.int8).max:\n",
    "                data[column] = data[column].astype(np.int8)\n",
    "            elif min_ > np.iinfo(np.int16).min and max_ < np.iinfo(np.int16).max:\n",
    "                data[column] = data[column].astype(np.int16)\n",
    "            elif min_ > np.iinfo(np.int32).min and max_ < np.iinfo(np.int32).max:\n",
    "                data[column] = data[column].astype(np.int32)\n",
    "            elif min_ > np.iinfo(np.int64).min and max_ < np.iinfo(np.int64).max:\n",
    "                data[column] = data[column].astype(np.int64)\n",
    "        else:\n",
    "            if min_ > np.finfo(np.float16).min and max_ < np.finfo(np.float16).max:\n",
    "                data[column] = data[column].astype(np.float16)\n",
    "            elif min_ > np.finfo(np.float32).min and max_ < np.finfo(np.float32).max:\n",
    "                data[column] = data[column].astype(np.float32)\n",
    "            elif min_ > np.finfo(np.float64).min and max_ < np.finfo(np.float64).max:\n",
    "                data[column] = data[column].astype(np.float64)\n",
    "    Final = data.memory_usage().sum()/1024**2\n",
    "    print(\"Final Memory : {:.2f} MB\".format(Final))\n",
    "    print(\"Reduced By: {:.2f}%\".format((Initial-Final)/Initial * 100))\n",
    "    return dataset\n",
    "        "
   ]
  },
  {
   "cell_type": "code",
   "execution_count": 13,
   "id": "further-final",
   "metadata": {
    "execution": {
     "iopub.execute_input": "2021-04-04T08:40:14.271103Z",
     "iopub.status.busy": "2021-04-04T08:40:14.270097Z",
     "iopub.status.idle": "2021-04-04T08:40:14.281271Z",
     "shell.execute_reply": "2021-04-04T08:40:14.281778Z"
    },
    "papermill": {
     "duration": 0.062715,
     "end_time": "2021-04-04T08:40:14.281958",
     "exception": false,
     "start_time": "2021-04-04T08:40:14.219243",
     "status": "completed"
    },
    "tags": []
   },
   "outputs": [
    {
     "name": "stdout",
     "output_type": "stream",
     "text": [
      "Initial Memory : 0.10 MB\n",
      "Final Memory : 0.02 MB\n",
      "Reduced By: 81.15%\n"
     ]
    }
   ],
   "source": [
    "data = Reduce_Me(data)"
   ]
  },
  {
   "cell_type": "code",
   "execution_count": 14,
   "id": "pleasant-slovakia",
   "metadata": {
    "execution": {
     "iopub.execute_input": "2021-04-04T08:40:14.379604Z",
     "iopub.status.busy": "2021-04-04T08:40:14.378663Z",
     "iopub.status.idle": "2021-04-04T08:40:14.383746Z",
     "shell.execute_reply": "2021-04-04T08:40:14.383203Z"
    },
    "papermill": {
     "duration": 0.056666,
     "end_time": "2021-04-04T08:40:14.383884",
     "exception": false,
     "start_time": "2021-04-04T08:40:14.327218",
     "status": "completed"
    },
    "tags": []
   },
   "outputs": [
    {
     "data": {
      "text/plain": [
       "Survived    float16\n",
       "Pclass         int8\n",
       "Sex            int8\n",
       "Age         float16\n",
       "SibSp          int8\n",
       "Parch          int8\n",
       "Ticket        int16\n",
       "Fare        float16\n",
       "Cabin         int16\n",
       "Embarked       int8\n",
       "dtype: object"
      ]
     },
     "execution_count": 14,
     "metadata": {},
     "output_type": "execute_result"
    }
   ],
   "source": [
    "data.dtypes"
   ]
  },
  {
   "cell_type": "code",
   "execution_count": 15,
   "id": "russian-soldier",
   "metadata": {
    "execution": {
     "iopub.execute_input": "2021-04-04T08:40:14.495755Z",
     "iopub.status.busy": "2021-04-04T08:40:14.494754Z",
     "iopub.status.idle": "2021-04-04T08:40:14.758674Z",
     "shell.execute_reply": "2021-04-04T08:40:14.758110Z"
    },
    "papermill": {
     "duration": 0.329513,
     "end_time": "2021-04-04T08:40:14.758816",
     "exception": false,
     "start_time": "2021-04-04T08:40:14.429303",
     "status": "completed"
    },
    "tags": []
   },
   "outputs": [
    {
     "name": "stderr",
     "output_type": "stream",
     "text": [
      "/opt/conda/lib/python3.7/site-packages/pandas/plotting/_matplotlib/tools.py:400: MatplotlibDeprecationWarning: \n",
      "The is_first_col function was deprecated in Matplotlib 3.4 and will be removed two minor releases later. Use ax.get_subplotspec().is_first_col() instead.\n",
      "  if ax.is_first_col():\n"
     ]
    },
    {
     "data": {
      "text/plain": [
       "<AxesSubplot:ylabel='Survived'>"
      ]
     },
     "execution_count": 15,
     "metadata": {},
     "output_type": "execute_result"
    },
    {
     "data": {
      "image/png": "[encoded data removed]",
      "text/plain": [
       "<Figure size 720x720 with 2 Axes>"
      ]
     },
     "metadata": {
      "needs_background": "light"
     },
     "output_type": "display_data"
    }
   ],
   "source": [
    "# Lets Plot Distribution of Target Variable\n",
    "\n",
    "plt.figure(figsize = (10,10))\n",
    "plt.subplot(1,2,1)\n",
    "data['Survived'].value_counts().sort_index().plot(kind = 'bar',color = 'blue',edgecolor = 'red',figsize = (10,10))\n",
    "plt.subplot(1,2,2)\n",
    "data['Survived'].value_counts().sort_index().plot(kind = 'pie',labels = np.sort(np.unique(data['Survived'])),autopct='%1.1f%%',\n",
    "                                                    shadow = True,figsize = (10,10))\n",
    "\n",
    "# Classes are Imbalanced "
   ]
  },
  {
   "cell_type": "code",
   "execution_count": 16,
   "id": "fresh-wrestling",
   "metadata": {
    "execution": {
     "iopub.execute_input": "2021-04-04T08:40:14.863804Z",
     "iopub.status.busy": "2021-04-04T08:40:14.863196Z",
     "iopub.status.idle": "2021-04-04T08:40:15.017038Z",
     "shell.execute_reply": "2021-04-04T08:40:15.017503Z"
    },
    "papermill": {
     "duration": 0.211099,
     "end_time": "2021-04-04T08:40:15.017686",
     "exception": false,
     "start_time": "2021-04-04T08:40:14.806587",
     "status": "completed"
    },
    "tags": []
   },
   "outputs": [
    {
     "data": {
      "text/plain": [
       "<AxesSubplot:>"
      ]
     },
     "execution_count": 16,
     "metadata": {},
     "output_type": "execute_result"
    },
    {
     "data": {
      "image/png": "[encoded data removed]",
      "text/plain": [
       "<Figure size 720x720 with 1 Axes>"
      ]
     },
     "metadata": {
      "needs_background": "light"
     },
     "output_type": "display_data"
    }
   ],
   "source": [
    "# Lets Plot the Distribution of Integer Columns\n",
    "col = [col for col in data if 'int' in str(data[col].dtype)]\n",
    "data[col].nunique().value_counts().sort_index().plot(kind = 'bar',color = 'green',figsize = (10,10))"
   ]
  },
  {
   "cell_type": "code",
   "execution_count": 17,
   "id": "deadly-poster",
   "metadata": {
    "execution": {
     "iopub.execute_input": "2021-04-04T08:40:15.118446Z",
     "iopub.status.busy": "2021-04-04T08:40:15.117772Z",
     "iopub.status.idle": "2021-04-04T08:40:15.429174Z",
     "shell.execute_reply": "2021-04-04T08:40:15.429767Z"
    },
    "papermill": {
     "duration": 0.363609,
     "end_time": "2021-04-04T08:40:15.429940",
     "exception": false,
     "start_time": "2021-04-04T08:40:15.066331",
     "status": "completed"
    },
    "tags": []
   },
   "outputs": [
    {
     "data": {
      "image/png": "[encoded data removed]",
      "text/plain": [
       "<Figure size 720x720 with 2 Axes>"
      ]
     },
     "metadata": {
      "needs_background": "light"
     },
     "output_type": "display_data"
    }
   ],
   "source": [
    "# Lets plot the Distribution of Floating Points\n",
    "col = [col for col in data if 'float' in str(data[col].dtype) and col != \"Survived\"]\n",
    "plt.figure(figsize = (10,10))\n",
    "color = {1:\"red\",0:\"blue\"}\n",
    "for idx,colm in enumerate(col):\n",
    "    ax = plt.subplot(2,2,idx+1)\n",
    "    for class_,col in color.items():\n",
    "        df = data.loc[data['Survived'] == class_,colm]\n",
    "        sns.kdeplot(df,color = col,ax = ax,fill=True,legend=\"Class: \"+ str(class_))\n",
    "        \n"
   ]
  },
  {
   "cell_type": "code",
   "execution_count": 18,
   "id": "convenient-isaac",
   "metadata": {
    "execution": {
     "iopub.execute_input": "2021-04-04T08:40:15.534021Z",
     "iopub.status.busy": "2021-04-04T08:40:15.533416Z",
     "iopub.status.idle": "2021-04-04T08:40:15.538190Z",
     "shell.execute_reply": "2021-04-04T08:40:15.538844Z"
    },
    "papermill": {
     "duration": 0.058188,
     "end_time": "2021-04-04T08:40:15.539006",
     "exception": false,
     "start_time": "2021-04-04T08:40:15.480818",
     "status": "completed"
    },
    "tags": []
   },
   "outputs": [],
   "source": [
    "Labels = data.loc[data['Survived'].notnull(),'Survived']"
   ]
  },
  {
   "cell_type": "code",
   "execution_count": 19,
   "id": "global-mailman",
   "metadata": {
    "execution": {
     "iopub.execute_input": "2021-04-04T08:40:15.642886Z",
     "iopub.status.busy": "2021-04-04T08:40:15.642312Z",
     "iopub.status.idle": "2021-04-04T08:40:15.649138Z",
     "shell.execute_reply": "2021-04-04T08:40:15.649699Z"
    },
    "papermill": {
     "duration": 0.060049,
     "end_time": "2021-04-04T08:40:15.649859",
     "exception": false,
     "start_time": "2021-04-04T08:40:15.589810",
     "status": "completed"
    },
    "tags": []
   },
   "outputs": [
    {
     "data": {
      "text/plain": [
       "0      0.0\n",
       "1      1.0\n",
       "2      1.0\n",
       "3      1.0\n",
       "4      0.0\n",
       "      ... \n",
       "886    0.0\n",
       "887    1.0\n",
       "888    0.0\n",
       "889    1.0\n",
       "890    0.0\n",
       "Name: Survived, Length: 891, dtype: float16"
      ]
     },
     "execution_count": 19,
     "metadata": {},
     "output_type": "execute_result"
    }
   ],
   "source": [
    "Labels"
   ]
  },
  {
   "cell_type": "code",
   "execution_count": 20,
   "id": "french-neutral",
   "metadata": {
    "execution": {
     "iopub.execute_input": "2021-04-04T08:40:15.752945Z",
     "iopub.status.busy": "2021-04-04T08:40:15.752305Z",
     "iopub.status.idle": "2021-04-04T08:40:15.765502Z",
     "shell.execute_reply": "2021-04-04T08:40:15.765950Z"
    },
    "papermill": {
     "duration": 0.066233,
     "end_time": "2021-04-04T08:40:15.766098",
     "exception": false,
     "start_time": "2021-04-04T08:40:15.699865",
     "status": "completed"
    },
    "tags": []
   },
   "outputs": [
    {
     "data": {
      "text/html": [
       "<div>\n",
       "<style scoped>\n",
       "    .dataframe tbody tr th:only-of-type {\n",
       "        vertical-align: middle;\n",
       "    }\n",
       "\n",
       "    .dataframe tbody tr th {\n",
       "        vertical-align: top;\n",
       "    }\n",
       "\n",
       "    .dataframe thead th {\n",
       "        text-align: right;\n",
       "    }\n",
       "</style>\n",
       "<table border=\"1\" class=\"dataframe\">\n",
       "  <thead>\n",
       "    <tr style=\"text-align: right;\">\n",
       "      <th></th>\n",
       "      <th>Total</th>\n",
       "      <th>Percentage</th>\n",
       "    </tr>\n",
       "  </thead>\n",
       "  <tbody>\n",
       "    <tr>\n",
       "      <th>Survived</th>\n",
       "      <td>418</td>\n",
       "      <td>0.319328</td>\n",
       "    </tr>\n",
       "    <tr>\n",
       "      <th>Age</th>\n",
       "      <td>263</td>\n",
       "      <td>0.200917</td>\n",
       "    </tr>\n",
       "    <tr>\n",
       "      <th>Fare</th>\n",
       "      <td>1</td>\n",
       "      <td>0.000764</td>\n",
       "    </tr>\n",
       "    <tr>\n",
       "      <th>Pclass</th>\n",
       "      <td>0</td>\n",
       "      <td>0.000000</td>\n",
       "    </tr>\n",
       "    <tr>\n",
       "      <th>Sex</th>\n",
       "      <td>0</td>\n",
       "      <td>0.000000</td>\n",
       "    </tr>\n",
       "    <tr>\n",
       "      <th>SibSp</th>\n",
       "      <td>0</td>\n",
       "      <td>0.000000</td>\n",
       "    </tr>\n",
       "    <tr>\n",
       "      <th>Parch</th>\n",
       "      <td>0</td>\n",
       "      <td>0.000000</td>\n",
       "    </tr>\n",
       "    <tr>\n",
       "      <th>Ticket</th>\n",
       "      <td>0</td>\n",
       "      <td>0.000000</td>\n",
       "    </tr>\n",
       "    <tr>\n",
       "      <th>Cabin</th>\n",
       "      <td>0</td>\n",
       "      <td>0.000000</td>\n",
       "    </tr>\n",
       "    <tr>\n",
       "      <th>Embarked</th>\n",
       "      <td>0</td>\n",
       "      <td>0.000000</td>\n",
       "    </tr>\n",
       "  </tbody>\n",
       "</table>\n",
       "</div>"
      ],
      "text/plain": [
       "          Total  Percentage\n",
       "Survived    418    0.319328\n",
       "Age         263    0.200917\n",
       "Fare          1    0.000764\n",
       "Pclass        0    0.000000\n",
       "Sex           0    0.000000\n",
       "SibSp         0    0.000000\n",
       "Parch         0    0.000000\n",
       "Ticket        0    0.000000\n",
       "Cabin         0    0.000000\n",
       "Embarked      0    0.000000"
      ]
     },
     "execution_count": 20,
     "metadata": {},
     "output_type": "execute_result"
    }
   ],
   "source": [
    "# Lets check for Null Values\n",
    "Null = pd.DataFrame(data.isnull().sum()).rename(columns = {0:\"Total\"})\n",
    "Null[\"Percentage\"] = Null[\"Total\"]/len(data)\n",
    "Null.sort_values('Percentage',ascending = False).head(10)"
   ]
  },
  {
   "cell_type": "code",
   "execution_count": 21,
   "id": "checked-performance",
   "metadata": {
    "execution": {
     "iopub.execute_input": "2021-04-04T08:40:15.872859Z",
     "iopub.status.busy": "2021-04-04T08:40:15.872218Z",
     "iopub.status.idle": "2021-04-04T08:40:16.023398Z",
     "shell.execute_reply": "2021-04-04T08:40:16.022445Z"
    },
    "papermill": {
     "duration": 0.206572,
     "end_time": "2021-04-04T08:40:16.023551",
     "exception": false,
     "start_time": "2021-04-04T08:40:15.816979",
     "status": "completed"
    },
    "tags": []
   },
   "outputs": [
    {
     "name": "stdout",
     "output_type": "stream",
     "text": [
      "Mean: 29.875,Median: 28.0\n"
     ]
    },
    {
     "data": {
      "image/png": "[encoded data removed]",
      "text/plain": [
       "<Figure size 432x288 with 1 Axes>"
      ]
     },
     "metadata": {
      "needs_background": "light"
     },
     "output_type": "display_data"
    }
   ],
   "source": [
    "sns.kdeplot(data['Age'],color = 'green',fill = True)\n",
    "print(\"Mean: {0},Median: {1}\".format(data['Age'].mean(),data['Age'].median()))\n",
    "\n",
    "# Bit Right Skewed Because Median is smaller then Mean. So we should fill the null values by Median."
   ]
  },
  {
   "cell_type": "code",
   "execution_count": 22,
   "id": "reverse-korean",
   "metadata": {
    "execution": {
     "iopub.execute_input": "2021-04-04T08:40:16.137335Z",
     "iopub.status.busy": "2021-04-04T08:40:16.136419Z",
     "iopub.status.idle": "2021-04-04T08:40:16.152124Z",
     "shell.execute_reply": "2021-04-04T08:40:16.150589Z"
    },
    "papermill": {
     "duration": 0.074114,
     "end_time": "2021-04-04T08:40:16.152277",
     "exception": false,
     "start_time": "2021-04-04T08:40:16.078163",
     "status": "completed"
    },
    "tags": []
   },
   "outputs": [],
   "source": [
    "# Feature Engineering.\n",
    "# 1. Lets remove Highly Correlated Features First\n",
    "Correlation_Matrix = data.corr()\n",
    "Upper = Correlation_Matrix.where(np.triu(np.ones(Correlation_Matrix.shape),k = 1).astype(np.bool))\n",
    "Redundant = [Col for Col in Upper if np.any(Upper[Col].abs() >= 0.95)]"
   ]
  },
  {
   "cell_type": "code",
   "execution_count": 23,
   "id": "certain-infection",
   "metadata": {
    "execution": {
     "iopub.execute_input": "2021-04-04T08:40:16.275393Z",
     "iopub.status.busy": "2021-04-04T08:40:16.274717Z",
     "iopub.status.idle": "2021-04-04T08:40:16.277592Z",
     "shell.execute_reply": "2021-04-04T08:40:16.277109Z"
    },
    "papermill": {
     "duration": 0.071747,
     "end_time": "2021-04-04T08:40:16.277735",
     "exception": false,
     "start_time": "2021-04-04T08:40:16.205988",
     "status": "completed"
    },
    "tags": []
   },
   "outputs": [],
   "source": [
    "# 2. Lets Automatically Create Some Features\n",
    "\n",
    "es = ft.EntitySet(id = \"Titanic\")\n",
    "es = es.entity_from_dataframe(entity_id = \"Data\",dataframe=data,make_index=True,index = \"TitanicID\")"
   ]
  },
  {
   "cell_type": "code",
   "execution_count": 24,
   "id": "mighty-country",
   "metadata": {
    "execution": {
     "iopub.execute_input": "2021-04-04T08:40:16.388499Z",
     "iopub.status.busy": "2021-04-04T08:40:16.387878Z",
     "iopub.status.idle": "2021-04-04T08:40:16.392608Z",
     "shell.execute_reply": "2021-04-04T08:40:16.392114Z"
    },
    "papermill": {
     "duration": 0.062151,
     "end_time": "2021-04-04T08:40:16.392755",
     "exception": false,
     "start_time": "2021-04-04T08:40:16.330604",
     "status": "completed"
    },
    "tags": []
   },
   "outputs": [
    {
     "data": {
      "text/plain": [
       "Entityset: Titanic\n",
       "  Entities:\n",
       "    Data [Rows: 1309, Columns: 11]\n",
       "  Relationships:\n",
       "    No relationships"
      ]
     },
     "execution_count": 24,
     "metadata": {},
     "output_type": "execute_result"
    }
   ],
   "source": [
    "es"
   ]
  },
  {
   "cell_type": "code",
   "execution_count": 25,
   "id": "insured-ethics",
   "metadata": {
    "execution": {
     "iopub.execute_input": "2021-04-04T08:40:16.503657Z",
     "iopub.status.busy": "2021-04-04T08:40:16.503071Z",
     "iopub.status.idle": "2021-04-04T08:40:16.507939Z",
     "shell.execute_reply": "2021-04-04T08:40:16.507445Z"
    },
    "papermill": {
     "duration": 0.062027,
     "end_time": "2021-04-04T08:40:16.508055",
     "exception": false,
     "start_time": "2021-04-04T08:40:16.446028",
     "status": "completed"
    },
    "tags": []
   },
   "outputs": [
    {
     "data": {
      "text/plain": [
       "[<Variable: TitanicID (dtype = index)>,\n",
       " <Variable: Survived (dtype = numeric)>,\n",
       " <Variable: Pclass (dtype = numeric)>,\n",
       " <Variable: Sex (dtype = numeric)>,\n",
       " <Variable: Age (dtype = numeric)>,\n",
       " <Variable: SibSp (dtype = numeric)>,\n",
       " <Variable: Parch (dtype = numeric)>,\n",
       " <Variable: Ticket (dtype = numeric)>,\n",
       " <Variable: Fare (dtype = numeric)>,\n",
       " <Variable: Cabin (dtype = numeric)>,\n",
       " <Variable: Embarked (dtype = numeric)>]"
      ]
     },
     "execution_count": 25,
     "metadata": {},
     "output_type": "execute_result"
    }
   ],
   "source": [
    "es[\"Data\"].variables"
   ]
  },
  {
   "cell_type": "code",
   "execution_count": 26,
   "id": "senior-enforcement",
   "metadata": {
    "execution": {
     "iopub.execute_input": "2021-04-04T08:40:16.785463Z",
     "iopub.status.busy": "2021-04-04T08:40:16.782377Z",
     "iopub.status.idle": "2021-04-04T08:40:16.852016Z",
     "shell.execute_reply": "2021-04-04T08:40:16.851453Z"
    },
    "papermill": {
     "duration": 0.290425,
     "end_time": "2021-04-04T08:40:16.852167",
     "exception": false,
     "start_time": "2021-04-04T08:40:16.561742",
     "status": "completed"
    },
    "tags": []
   },
   "outputs": [],
   "source": [
    "feature_matrix,feature_dfs = ft.dfs(entityset=es,target_entity=\"Data\",trans_primitives=[\"add_numeric\",\"cum_mean\"])"
   ]
  },
  {
   "cell_type": "code",
   "execution_count": 27,
   "id": "nervous-disorder",
   "metadata": {
    "execution": {
     "iopub.execute_input": "2021-04-04T08:40:16.968181Z",
     "iopub.status.busy": "2021-04-04T08:40:16.967214Z",
     "iopub.status.idle": "2021-04-04T08:40:16.970184Z",
     "shell.execute_reply": "2021-04-04T08:40:16.969710Z"
    },
    "papermill": {
     "duration": 0.062194,
     "end_time": "2021-04-04T08:40:16.970313",
     "exception": false,
     "start_time": "2021-04-04T08:40:16.908119",
     "status": "completed"
    },
    "tags": []
   },
   "outputs": [],
   "source": [
    "Target_Seperate = feature_matrix[\"Survived\"]\n",
    "Remove_col = []\n",
    "for col in feature_matrix:\n",
    "    if \"Survived\" in str(col):\n",
    "        Remove_col.append(col)"
   ]
  },
  {
   "cell_type": "code",
   "execution_count": 28,
   "id": "strong-february",
   "metadata": {
    "execution": {
     "iopub.execute_input": "2021-04-04T08:40:17.086404Z",
     "iopub.status.busy": "2021-04-04T08:40:17.085582Z",
     "iopub.status.idle": "2021-04-04T08:40:17.088629Z",
     "shell.execute_reply": "2021-04-04T08:40:17.088141Z"
    },
    "papermill": {
     "duration": 0.063827,
     "end_time": "2021-04-04T08:40:17.088764",
     "exception": false,
     "start_time": "2021-04-04T08:40:17.024937",
     "status": "completed"
    },
    "tags": []
   },
   "outputs": [],
   "source": [
    "feature_matrix.drop(Remove_col,axis = 1,inplace = True)"
   ]
  },
  {
   "cell_type": "code",
   "execution_count": 29,
   "id": "headed-stadium",
   "metadata": {
    "execution": {
     "iopub.execute_input": "2021-04-04T08:40:17.203571Z",
     "iopub.status.busy": "2021-04-04T08:40:17.202607Z",
     "iopub.status.idle": "2021-04-04T08:40:17.238736Z",
     "shell.execute_reply": "2021-04-04T08:40:17.238067Z"
    },
    "papermill": {
     "duration": 0.096626,
     "end_time": "2021-04-04T08:40:17.238869",
     "exception": false,
     "start_time": "2021-04-04T08:40:17.142243",
     "status": "completed"
    },
    "tags": []
   },
   "outputs": [],
   "source": [
    "del data\n",
    "Correlation_Matrix = feature_matrix.corr()\n",
    "Upper = Correlation_Matrix.where(np.triu(np.ones(Correlation_Matrix.shape),k = 1).astype(np.bool))\n",
    "Redundant = [Col for Col in Upper if np.any(Upper[Col].abs() >= 0.95)]"
   ]
  },
  {
   "cell_type": "code",
   "execution_count": 30,
   "id": "functioning-gazette",
   "metadata": {
    "execution": {
     "iopub.execute_input": "2021-04-04T08:40:17.354446Z",
     "iopub.status.busy": "2021-04-04T08:40:17.353457Z",
     "iopub.status.idle": "2021-04-04T08:40:17.357159Z",
     "shell.execute_reply": "2021-04-04T08:40:17.356577Z"
    },
    "papermill": {
     "duration": 0.064092,
     "end_time": "2021-04-04T08:40:17.357290",
     "exception": false,
     "start_time": "2021-04-04T08:40:17.293198",
     "status": "completed"
    },
    "tags": []
   },
   "outputs": [],
   "source": [
    "feature_matrix.drop(Redundant,axis = 1,inplace = True)"
   ]
  },
  {
   "cell_type": "code",
   "execution_count": 31,
   "id": "planned-figure",
   "metadata": {
    "execution": {
     "iopub.execute_input": "2021-04-04T08:40:17.471866Z",
     "iopub.status.busy": "2021-04-04T08:40:17.471202Z",
     "iopub.status.idle": "2021-04-04T08:40:17.474971Z",
     "shell.execute_reply": "2021-04-04T08:40:17.475424Z"
    },
    "papermill": {
     "duration": 0.063773,
     "end_time": "2021-04-04T08:40:17.475661",
     "exception": false,
     "start_time": "2021-04-04T08:40:17.411888",
     "status": "completed"
    },
    "tags": []
   },
   "outputs": [],
   "source": [
    "feature_matrix.shape\n",
    "feature_matrix[\"Survived\"] = Target_Seperate\n",
    "del Target_Seperate"
   ]
  },
  {
   "cell_type": "code",
   "execution_count": 32,
   "id": "innocent-pastor",
   "metadata": {
    "execution": {
     "iopub.execute_input": "2021-04-04T08:40:17.593912Z",
     "iopub.status.busy": "2021-04-04T08:40:17.591931Z",
     "iopub.status.idle": "2021-04-04T08:40:17.596739Z",
     "shell.execute_reply": "2021-04-04T08:40:17.596129Z"
    },
    "papermill": {
     "duration": 0.065843,
     "end_time": "2021-04-04T08:40:17.596899",
     "exception": false,
     "start_time": "2021-04-04T08:40:17.531056",
     "status": "completed"
    },
    "tags": []
   },
   "outputs": [],
   "source": [
    "Train = feature_matrix.loc[feature_matrix['Survived'].notnull(),:]\n",
    "Test = feature_matrix.loc[feature_matrix['Survived'].isnull(),:]"
   ]
  },
  {
   "cell_type": "code",
   "execution_count": 33,
   "id": "protecting-toolbox",
   "metadata": {
    "execution": {
     "iopub.execute_input": "2021-04-04T08:40:17.714398Z",
     "iopub.status.busy": "2021-04-04T08:40:17.713607Z",
     "iopub.status.idle": "2021-04-04T08:40:17.717099Z",
     "shell.execute_reply": "2021-04-04T08:40:17.716546Z"
    },
    "papermill": {
     "duration": 0.065558,
     "end_time": "2021-04-04T08:40:17.717232",
     "exception": false,
     "start_time": "2021-04-04T08:40:17.651674",
     "status": "completed"
    },
    "tags": []
   },
   "outputs": [],
   "source": [
    "Train.drop([\"Survived\"],axis = 1,inplace = True)\n",
    "Test.drop([\"Survived\"],axis = 1,inplace = True)\n"
   ]
  },
  {
   "cell_type": "code",
   "execution_count": 34,
   "id": "freelance-natural",
   "metadata": {
    "execution": {
     "iopub.execute_input": "2021-04-04T08:40:17.832567Z",
     "iopub.status.busy": "2021-04-04T08:40:17.831761Z",
     "iopub.status.idle": "2021-04-04T08:40:17.835179Z",
     "shell.execute_reply": "2021-04-04T08:40:17.834587Z"
    },
    "papermill": {
     "duration": 0.062398,
     "end_time": "2021-04-04T08:40:17.835302",
     "exception": false,
     "start_time": "2021-04-04T08:40:17.772904",
     "status": "completed"
    },
    "tags": []
   },
   "outputs": [],
   "source": [
    "Features = Train.columns"
   ]
  },
  {
   "cell_type": "code",
   "execution_count": 35,
   "id": "aquatic-concentration",
   "metadata": {
    "execution": {
     "iopub.execute_input": "2021-04-04T08:40:17.952474Z",
     "iopub.status.busy": "2021-04-04T08:40:17.951577Z",
     "iopub.status.idle": "2021-04-04T08:40:18.178888Z",
     "shell.execute_reply": "2021-04-04T08:40:18.178352Z"
    },
    "papermill": {
     "duration": 0.289059,
     "end_time": "2021-04-04T08:40:18.179052",
     "exception": false,
     "start_time": "2021-04-04T08:40:17.889993",
     "status": "completed"
    },
    "tags": []
   },
   "outputs": [],
   "source": [
    "from sklearn.pipeline import Pipeline\n",
    "from sklearn.preprocessing import StandardScaler\n",
    "from sklearn.impute import SimpleImputer\n",
    "from sklearn.metrics import roc_auc_score,make_scorer\n",
    "\n",
    "pipeline = Pipeline([(\"imputer\",SimpleImputer(strategy = \"median\")),(\"Scaler\",StandardScaler())])\n",
    "score_fn = make_scorer(roc_auc_score,greater_is_better=True)"
   ]
  },
  {
   "cell_type": "code",
   "execution_count": 36,
   "id": "manufactured-financing",
   "metadata": {
    "execution": {
     "iopub.execute_input": "2021-04-04T08:40:18.296164Z",
     "iopub.status.busy": "2021-04-04T08:40:18.293937Z",
     "iopub.status.idle": "2021-04-04T08:40:18.308411Z",
     "shell.execute_reply": "2021-04-04T08:40:18.307898Z"
    },
    "papermill": {
     "duration": 0.07429,
     "end_time": "2021-04-04T08:40:18.308572",
     "exception": false,
     "start_time": "2021-04-04T08:40:18.234282",
     "status": "completed"
    },
    "tags": []
   },
   "outputs": [],
   "source": [
    "train = pipeline.fit_transform(Train)\n",
    "test = pipeline.transform(Test)"
   ]
  },
  {
   "cell_type": "code",
   "execution_count": 37,
   "id": "hired-coverage",
   "metadata": {
    "execution": {
     "iopub.execute_input": "2021-04-04T08:40:18.425739Z",
     "iopub.status.busy": "2021-04-04T08:40:18.425014Z",
     "iopub.status.idle": "2021-04-04T08:40:23.892543Z",
     "shell.execute_reply": "2021-04-04T08:40:23.891943Z"
    },
    "papermill": {
     "duration": 5.528565,
     "end_time": "2021-04-04T08:40:23.892735",
     "exception": false,
     "start_time": "2021-04-04T08:40:18.364170",
     "status": "completed"
    },
    "tags": []
   },
   "outputs": [],
   "source": [
    "# Now Lets Start machine Learning Models\n",
    "# Lets use Random Forest as Our base Model\n",
    "\n",
    "from sklearn.ensemble import RandomForestClassifier\n",
    "from sklearn.model_selection import cross_val_score\n",
    "\n",
    "model = RandomForestClassifier(n_estimators=100,random_state=20,n_jobs=-1)\n",
    "cv_score = cross_val_score(model,train,Labels,cv = 10,scoring=score_fn)"
   ]
  },
  {
   "cell_type": "code",
   "execution_count": 38,
   "id": "cardiovascular-developer",
   "metadata": {
    "execution": {
     "iopub.execute_input": "2021-04-04T08:40:24.013018Z",
     "iopub.status.busy": "2021-04-04T08:40:24.012221Z",
     "iopub.status.idle": "2021-04-04T08:40:24.015445Z",
     "shell.execute_reply": "2021-04-04T08:40:24.016113Z"
    },
    "papermill": {
     "duration": 0.066267,
     "end_time": "2021-04-04T08:40:24.016334",
     "exception": false,
     "start_time": "2021-04-04T08:40:23.950067",
     "status": "completed"
    },
    "tags": []
   },
   "outputs": [
    {
     "name": "stdout",
     "output_type": "stream",
     "text": [
      "10 Fold Cross Validation ROC_AUC_SCORE: 0.786 with Deviation: 0.041\n"
     ]
    }
   ],
   "source": [
    "print(\"10 Fold Cross Validation ROC_AUC_SCORE: {0} with Deviation: {1}\".format(round(cv_score.mean(),3),round(cv_score.std(),3)))"
   ]
  },
  {
   "cell_type": "code",
   "execution_count": 39,
   "id": "frozen-fraud",
   "metadata": {
    "execution": {
     "iopub.execute_input": "2021-04-04T08:40:24.135113Z",
     "iopub.status.busy": "2021-04-04T08:40:24.134448Z",
     "iopub.status.idle": "2021-04-04T08:40:24.592501Z",
     "shell.execute_reply": "2021-04-04T08:40:24.591805Z"
    },
    "papermill": {
     "duration": 0.519588,
     "end_time": "2021-04-04T08:40:24.592659",
     "exception": false,
     "start_time": "2021-04-04T08:40:24.073071",
     "status": "completed"
    },
    "tags": []
   },
   "outputs": [],
   "source": [
    "model.fit(train,Labels)\n",
    "feature_Importance = pd.DataFrame({\"Features\":Features,\"Importance\":model.feature_importances_})"
   ]
  },
  {
   "cell_type": "code",
   "execution_count": 40,
   "id": "related-peninsula",
   "metadata": {
    "execution": {
     "iopub.execute_input": "2021-04-04T08:40:24.708020Z",
     "iopub.status.busy": "2021-04-04T08:40:24.707366Z",
     "iopub.status.idle": "2021-04-04T08:40:24.716820Z",
     "shell.execute_reply": "2021-04-04T08:40:24.717313Z"
    },
    "papermill": {
     "duration": 0.068712,
     "end_time": "2021-04-04T08:40:24.717514",
     "exception": false,
     "start_time": "2021-04-04T08:40:24.648802",
     "status": "completed"
    },
    "tags": []
   },
   "outputs": [],
   "source": [
    "def Plot_Feature_Importance(df,count = 5,threshold = None):\n",
    "    df[\"Importance\"] = df[\"Importance\"]/df[\"Importance\"].sum()   # Normalizing Stuff\n",
    "    df = df.sort_values(\"Importance\",ascending = False).reset_index(drop = True)\n",
    "    df[\"Cum_Sum\"] = np.cumsum(df[\"Importance\"])\n",
    "    \n",
    "    # Plotting Count Important Features\n",
    "    df.loc[:count,:].plot(kind = \"barh\",x = \"Features\",y = \"Importance\",color = \"blue\",edgecolor = \"black\",linewidth = 2)\n",
    "    plt.xlabel(\"Normalized Importance\",size = 10)\n",
    "    plt.gca().invert_yaxis() \n",
    "   # plt.gca().invert_xaxis()\n",
    "    # Simply Invert the Y axis. If u uncomment this line the Max Important feature will be at bottom and least one on top.\n",
    "    plt.show()\n",
    "    \n",
    "    if threshold:\n",
    "        plt.plot(np.arange(len(df)),df[\"Cum_Sum\"],\"r-\")\n",
    "        plt.xlabel('# Features', size = 10)\n",
    "        plt.ylabel('Cumulative Importance', size = 10)\n",
    "        plt.title('Cumulative Importance of Features', size = 10)\n",
    "        \n",
    "        min_ = np.min(np.where(df[\"Cum_Sum\"] > threshold))\n",
    "        \n",
    "        plt.vlines(min_+1,ymin=0,ymax=2,colors=\"black\",linestyles=\"--\")\n",
    "        print(\"Number of Features Required for threshold: {} is {}\".format(threshold,min_+1))\n",
    "        \n",
    "    plt.show()\n",
    "    return df\n",
    "    "
   ]
  },
  {
   "cell_type": "code",
   "execution_count": 41,
   "id": "bored-alarm",
   "metadata": {
    "execution": {
     "iopub.execute_input": "2021-04-04T08:40:24.831881Z",
     "iopub.status.busy": "2021-04-04T08:40:24.831183Z",
     "iopub.status.idle": "2021-04-04T08:40:25.158246Z",
     "shell.execute_reply": "2021-04-04T08:40:25.157706Z"
    },
    "papermill": {
     "duration": 0.385257,
     "end_time": "2021-04-04T08:40:25.158389",
     "exception": false,
     "start_time": "2021-04-04T08:40:24.773132",
     "status": "completed"
    },
    "tags": []
   },
   "outputs": [
    {
     "data": {
      "image/png": "[encoded data removed]",
      "text/plain": [
       "<Figure size 432x288 with 1 Axes>"
      ]
     },
     "metadata": {
      "needs_background": "light"
     },
     "output_type": "display_data"
    },
    {
     "name": "stdout",
     "output_type": "stream",
     "text": [
      "Number of Features Required for threshold: 0.9 is 21\n"
     ]
    },
    {
     "data": {
      "image/png": "[encoded data removed]",
      "text/plain": [
       "<Figure size 432x288 with 1 Axes>"
      ]
     },
     "metadata": {
      "needs_background": "light"
     },
     "output_type": "display_data"
    }
   ],
   "source": [
    "Normalized_Feature_Importance = Plot_Feature_Importance(feature_Importance,count=5,threshold=0.9)"
   ]
  },
  {
   "cell_type": "code",
   "execution_count": 42,
   "id": "underlying-stress",
   "metadata": {
    "execution": {
     "iopub.execute_input": "2021-04-04T08:40:25.286213Z",
     "iopub.status.busy": "2021-04-04T08:40:25.285221Z",
     "iopub.status.idle": "2021-04-04T08:40:25.287951Z",
     "shell.execute_reply": "2021-04-04T08:40:25.288394Z"
    },
    "papermill": {
     "duration": 0.07175,
     "end_time": "2021-04-04T08:40:25.288556",
     "exception": false,
     "start_time": "2021-04-04T08:40:25.216806",
     "status": "completed"
    },
    "tags": []
   },
   "outputs": [],
   "source": [
    "import warnings\n",
    "from sklearn.exceptions import ConvergenceWarning\n",
    "warnings.filterwarnings('ignore',category=ConvergenceWarning)\n",
    "warnings.filterwarnings('ignore',category=DeprecationWarning)\n",
    "warnings.filterwarnings('ignore',category=UserWarning)\n",
    "\n",
    "Result = pd.DataFrame(columns = [\"Model\",\"CV_Mean\",\"CV_Std\"])\n",
    "\n",
    "def Get_Best_Model(model,train,target,Name,model_result = False):\n",
    "    global Result\n",
    "    cv_score = cross_val_score(model,train,target,cv=10,scoring=score_fn,n_jobs=-1)\n",
    "    print(\"For Model: {0} 10 Fold Cross Validation ROC_AUC_SCORE: {1} with Deviation: {2}\".format(Name,round(cv_score.mean(),3),round(cv_score.std(),3)))\n",
    "    \n",
    "    if model_result:\n",
    "        Result = Result.append(pd.DataFrame({\"Model\":Name,\"CV_Mean\":round(cv_score.mean(),3),\"CV_Std\":round(cv_score.std(),3)},index = [0]),ignore_index=True)\n",
    "        return Result\n",
    "    "
   ]
  },
  {
   "cell_type": "code",
   "execution_count": 43,
   "id": "oriented-server",
   "metadata": {
    "execution": {
     "iopub.execute_input": "2021-04-04T08:40:25.414233Z",
     "iopub.status.busy": "2021-04-04T08:40:25.413592Z",
     "iopub.status.idle": "2021-04-04T08:40:25.426353Z",
     "shell.execute_reply": "2021-04-04T08:40:25.425821Z"
    },
    "papermill": {
     "duration": 0.078194,
     "end_time": "2021-04-04T08:40:25.426489",
     "exception": false,
     "start_time": "2021-04-04T08:40:25.348295",
     "status": "completed"
    },
    "tags": []
   },
   "outputs": [],
   "source": [
    "from sklearn.ensemble import RandomForestClassifier\n",
    "from sklearn.linear_model import LogisticRegression\n",
    "from sklearn.svm import SVC\n",
    "from sklearn.neighbors import KNeighborsClassifier\n",
    "from sklearn.neural_network import MLPClassifier\n",
    "\n",
    "model_forest = RandomForestClassifier(n_estimators= 100,random_state=10,n_jobs=-1)\n",
    "model_logistic = LogisticRegression(n_jobs=-1)\n",
    "model_svm = SVC()\n",
    "model_NN = MLPClassifier(hidden_layer_sizes=[100,100,100],early_stopping=True)"
   ]
  },
  {
   "cell_type": "code",
   "execution_count": 44,
   "id": "individual-disclaimer",
   "metadata": {
    "execution": {
     "iopub.execute_input": "2021-04-04T08:40:25.573964Z",
     "iopub.status.busy": "2021-04-04T08:40:25.573298Z",
     "iopub.status.idle": "2021-04-04T08:40:25.581468Z",
     "shell.execute_reply": "2021-04-04T08:40:25.582237Z"
    },
    "papermill": {
     "duration": 0.083782,
     "end_time": "2021-04-04T08:40:25.582469",
     "exception": false,
     "start_time": "2021-04-04T08:40:25.498687",
     "status": "completed"
    },
    "tags": []
   },
   "outputs": [
    {
     "data": {
      "text/plain": [
       "(891, 29)"
      ]
     },
     "execution_count": 44,
     "metadata": {},
     "output_type": "execute_result"
    }
   ],
   "source": [
    "train.shape"
   ]
  },
  {
   "cell_type": "code",
   "execution_count": 45,
   "id": "excess-nelson",
   "metadata": {
    "execution": {
     "iopub.execute_input": "2021-04-04T08:40:25.708954Z",
     "iopub.status.busy": "2021-04-04T08:40:25.708310Z",
     "iopub.status.idle": "2021-04-04T08:40:25.712939Z",
     "shell.execute_reply": "2021-04-04T08:40:25.713419Z"
    },
    "papermill": {
     "duration": 0.069374,
     "end_time": "2021-04-04T08:40:25.713578",
     "exception": false,
     "start_time": "2021-04-04T08:40:25.644204",
     "status": "completed"
    },
    "tags": []
   },
   "outputs": [
    {
     "data": {
      "text/plain": [
       "(891,)"
      ]
     },
     "execution_count": 45,
     "metadata": {},
     "output_type": "execute_result"
    }
   ],
   "source": [
    "Labels.shape"
   ]
  },
  {
   "cell_type": "code",
   "execution_count": 46,
   "id": "joint-tomorrow",
   "metadata": {
    "execution": {
     "iopub.execute_input": "2021-04-04T08:40:25.840425Z",
     "iopub.status.busy": "2021-04-04T08:40:25.839779Z",
     "iopub.status.idle": "2021-04-04T08:40:28.026234Z",
     "shell.execute_reply": "2021-04-04T08:40:28.026722Z"
    },
    "papermill": {
     "duration": 2.251699,
     "end_time": "2021-04-04T08:40:28.026881",
     "exception": false,
     "start_time": "2021-04-04T08:40:25.775182",
     "status": "completed"
    },
    "tags": []
   },
   "outputs": [
    {
     "name": "stdout",
     "output_type": "stream",
     "text": [
      "For Model: RandomForest 10 Fold Cross Validation ROC_AUC_SCORE: 0.799 with Deviation: 0.044\n"
     ]
    }
   ],
   "source": [
    "Result = Get_Best_Model(model_forest,train,Labels,\"RandomForest\",model_result=True)"
   ]
  },
  {
   "cell_type": "code",
   "execution_count": 47,
   "id": "mighty-coffee",
   "metadata": {
    "execution": {
     "iopub.execute_input": "2021-04-04T08:40:28.151294Z",
     "iopub.status.busy": "2021-04-04T08:40:28.150609Z",
     "iopub.status.idle": "2021-04-04T08:40:28.493099Z",
     "shell.execute_reply": "2021-04-04T08:40:28.493570Z"
    },
    "papermill": {
     "duration": 0.406991,
     "end_time": "2021-04-04T08:40:28.493806",
     "exception": false,
     "start_time": "2021-04-04T08:40:28.086815",
     "status": "completed"
    },
    "tags": []
   },
   "outputs": [
    {
     "name": "stdout",
     "output_type": "stream",
     "text": [
      "For Model: LogistikRegression 10 Fold Cross Validation ROC_AUC_SCORE: 0.771 with Deviation: 0.037\n"
     ]
    }
   ],
   "source": [
    "Result = Get_Best_Model(model_logistic,train,Labels,\"LogistikRegression\",model_result=True)"
   ]
  },
  {
   "cell_type": "code",
   "execution_count": 48,
   "id": "express-checkout",
   "metadata": {
    "execution": {
     "iopub.execute_input": "2021-04-04T08:40:28.623897Z",
     "iopub.status.busy": "2021-04-04T08:40:28.623286Z",
     "iopub.status.idle": "2021-04-04T08:40:28.825489Z",
     "shell.execute_reply": "2021-04-04T08:40:28.824290Z"
    },
    "papermill": {
     "duration": 0.269472,
     "end_time": "2021-04-04T08:40:28.825736",
     "exception": false,
     "start_time": "2021-04-04T08:40:28.556264",
     "status": "completed"
    },
    "tags": []
   },
   "outputs": [
    {
     "name": "stdout",
     "output_type": "stream",
     "text": [
      "For Model: SVM 10 Fold Cross Validation ROC_AUC_SCORE: 0.782 with Deviation: 0.042\n"
     ]
    }
   ],
   "source": [
    "Result = Get_Best_Model(model_svm,train,Labels,\"SVM\",model_result=True)"
   ]
  },
  {
   "cell_type": "code",
   "execution_count": 49,
   "id": "middle-spain",
   "metadata": {
    "execution": {
     "iopub.execute_input": "2021-04-04T08:40:28.962222Z",
     "iopub.status.busy": "2021-04-04T08:40:28.961010Z",
     "iopub.status.idle": "2021-04-04T08:40:29.249571Z",
     "shell.execute_reply": "2021-04-04T08:40:29.248840Z"
    },
    "papermill": {
     "duration": 0.359057,
     "end_time": "2021-04-04T08:40:29.249765",
     "exception": false,
     "start_time": "2021-04-04T08:40:28.890708",
     "status": "completed"
    },
    "tags": []
   },
   "outputs": [
    {
     "name": "stdout",
     "output_type": "stream",
     "text": [
      "For Model: KNN_5 10 Fold Cross Validation ROC_AUC_SCORE: 0.766 with Deviation: 0.047\n",
      "For Model: KNN_10 10 Fold Cross Validation ROC_AUC_SCORE: 0.757 with Deviation: 0.044\n",
      "For Model: KNN_15 10 Fold Cross Validation ROC_AUC_SCORE: 0.775 with Deviation: 0.057\n",
      "For Model: KNN_20 10 Fold Cross Validation ROC_AUC_SCORE: 0.767 with Deviation: 0.047\n"
     ]
    }
   ],
   "source": [
    "for n in [5,10,15,20]:\n",
    "    model_knn = KNeighborsClassifier(n_neighbors=n)\n",
    "    Result = Get_Best_Model(model_knn,train,Labels,f\"KNN_{n}\",model_result=True)"
   ]
  },
  {
   "cell_type": "code",
   "execution_count": 50,
   "id": "smooth-steering",
   "metadata": {
    "execution": {
     "iopub.execute_input": "2021-04-04T08:40:29.380609Z",
     "iopub.status.busy": "2021-04-04T08:40:29.379338Z",
     "iopub.status.idle": "2021-04-04T08:40:30.446925Z",
     "shell.execute_reply": "2021-04-04T08:40:30.446117Z"
    },
    "papermill": {
     "duration": 1.133084,
     "end_time": "2021-04-04T08:40:30.447105",
     "exception": false,
     "start_time": "2021-04-04T08:40:29.314021",
     "status": "completed"
    },
    "tags": []
   },
   "outputs": [
    {
     "name": "stdout",
     "output_type": "stream",
     "text": [
      "For Model: NeuralNet 10 Fold Cross Validation ROC_AUC_SCORE: 0.76 with Deviation: 0.068\n"
     ]
    }
   ],
   "source": [
    "Result = Get_Best_Model(model_NN,train,Labels,\"NeuralNet\",model_result=True)"
   ]
  },
  {
   "cell_type": "code",
   "execution_count": 51,
   "id": "casual-mambo",
   "metadata": {
    "execution": {
     "iopub.execute_input": "2021-04-04T08:40:30.577601Z",
     "iopub.status.busy": "2021-04-04T08:40:30.576650Z",
     "iopub.status.idle": "2021-04-04T08:40:30.580037Z",
     "shell.execute_reply": "2021-04-04T08:40:30.579387Z"
    },
    "papermill": {
     "duration": 0.070829,
     "end_time": "2021-04-04T08:40:30.580169",
     "exception": false,
     "start_time": "2021-04-04T08:40:30.509340",
     "status": "completed"
    },
    "tags": []
   },
   "outputs": [],
   "source": [
    "Result.set_index(\"Model\",inplace = True)"
   ]
  },
  {
   "cell_type": "code",
   "execution_count": 52,
   "id": "printable-temperature",
   "metadata": {
    "execution": {
     "iopub.execute_input": "2021-04-04T08:40:30.737370Z",
     "iopub.status.busy": "2021-04-04T08:40:30.735677Z",
     "iopub.status.idle": "2021-04-04T08:40:30.887724Z",
     "shell.execute_reply": "2021-04-04T08:40:30.887065Z"
    },
    "papermill": {
     "duration": 0.246172,
     "end_time": "2021-04-04T08:40:30.887942",
     "exception": false,
     "start_time": "2021-04-04T08:40:30.641770",
     "status": "completed"
    },
    "tags": []
   },
   "outputs": [
    {
     "data": {
      "text/plain": [
       "<AxesSubplot:xlabel='Model'>"
      ]
     },
     "execution_count": 52,
     "metadata": {},
     "output_type": "execute_result"
    },
    {
     "data": {
      "image/png": "[encoded data removed]",
      "text/plain": [
       "<Figure size 432x288 with 1 Axes>"
      ]
     },
     "metadata": {
      "needs_background": "light"
     },
     "output_type": "display_data"
    }
   ],
   "source": [
    "Result[\"CV_Mean\"].plot(kind = \"bar\",edgecolor = \"black\",color = \"yellow\",yerr = list(Result[\"CV_Std\"]))"
   ]
  },
  {
   "cell_type": "code",
   "execution_count": 53,
   "id": "pending-safety",
   "metadata": {
    "execution": {
     "iopub.execute_input": "2021-04-04T08:40:31.037668Z",
     "iopub.status.busy": "2021-04-04T08:40:31.037019Z",
     "iopub.status.idle": "2021-04-04T08:40:31.519140Z",
     "shell.execute_reply": "2021-04-04T08:40:31.518538Z"
    },
    "papermill": {
     "duration": 0.55234,
     "end_time": "2021-04-04T08:40:31.519282",
     "exception": false,
     "start_time": "2021-04-04T08:40:30.966942",
     "status": "completed"
    },
    "tags": []
   },
   "outputs": [],
   "source": [
    "# Random Forest Wins the race. Now lets do Hyperparameter Optimization for it using Hyperopt\n",
    "from hyperopt import STATUS_OK\n",
    "\n",
    "def ObjectiveFunction(params):\n",
    "    model = RandomForestClassifier(**params,n_jobs = -1)\n",
    "    score = cross_val_score(model,train,Labels,cv = 10,n_jobs=-1,scoring=score_fn)\n",
    "    loss = 1 - np.mean(score)\n",
    "    return {'loss':loss,'params':params,'status':STATUS_OK}\n",
    "    "
   ]
  },
  {
   "cell_type": "code",
   "execution_count": 54,
   "id": "bright-colony",
   "metadata": {
    "execution": {
     "iopub.execute_input": "2021-04-04T08:40:31.659955Z",
     "iopub.status.busy": "2021-04-04T08:40:31.659265Z",
     "iopub.status.idle": "2021-04-04T08:40:31.661839Z",
     "shell.execute_reply": "2021-04-04T08:40:31.662286Z"
    },
    "papermill": {
     "duration": 0.079294,
     "end_time": "2021-04-04T08:40:31.662449",
     "exception": false,
     "start_time": "2021-04-04T08:40:31.583155",
     "status": "completed"
    },
    "tags": []
   },
   "outputs": [],
   "source": [
    "from hyperopt import hp\n",
    "space = {\n",
    "    'n_estimators':hp.choice('n_estimators',range(10,1000)),\n",
    "    'max_depth':hp.choice('max_depth',range(1,50)),\n",
    "    'max_features':hp.choice('max_features',['auto','sqrt','log2']),\n",
    "    'max_leaf_nodes':hp.choice('max_leaf_nodes',range(10,150))\n",
    "}"
   ]
  },
  {
   "cell_type": "code",
   "execution_count": 55,
   "id": "neither-corporation",
   "metadata": {
    "execution": {
     "iopub.execute_input": "2021-04-04T08:40:31.793279Z",
     "iopub.status.busy": "2021-04-04T08:40:31.792708Z",
     "iopub.status.idle": "2021-04-04T08:40:31.795575Z",
     "shell.execute_reply": "2021-04-04T08:40:31.796086Z"
    },
    "papermill": {
     "duration": 0.070321,
     "end_time": "2021-04-04T08:40:31.796246",
     "exception": false,
     "start_time": "2021-04-04T08:40:31.725925",
     "status": "completed"
    },
    "tags": []
   },
   "outputs": [],
   "source": [
    "from hyperopt import Trials\n",
    "\n",
    "bayes_trial = Trials()"
   ]
  },
  {
   "cell_type": "code",
   "execution_count": 56,
   "id": "british-aaron",
   "metadata": {
    "execution": {
     "iopub.execute_input": "2021-04-04T08:40:31.955293Z",
     "iopub.status.busy": "2021-04-04T08:40:31.950134Z",
     "iopub.status.idle": "2021-04-04T08:52:02.930100Z",
     "shell.execute_reply": "2021-04-04T08:52:02.929361Z"
    },
    "papermill": {
     "duration": 691.07024,
     "end_time": "2021-04-04T08:52:02.930332",
     "exception": false,
     "start_time": "2021-04-04T08:40:31.860092",
     "status": "completed"
    },
    "tags": []
   },
   "outputs": [
    {
     "name": "stdout",
     "output_type": "stream",
     "text": [
      "100%|██████████| 100/100 [11:30<00:00,  6.91s/trial, best loss: 0.19788557847381372]\n"
     ]
    }
   ],
   "source": [
    "from hyperopt import fmin,tpe\n",
    "best = fmin(fn = ObjectiveFunction,space = space,algo = tpe.suggest,max_evals=100,trials=bayes_trial)\n",
    "# We could also use lambda function in fn as: fn = lambda x: Squrt(x,a,b...) thats also one of the way"
   ]
  },
  {
   "cell_type": "code",
   "execution_count": 57,
   "id": "cognitive-application",
   "metadata": {
    "execution": {
     "iopub.execute_input": "2021-04-04T08:52:03.128832Z",
     "iopub.status.busy": "2021-04-04T08:52:03.127657Z",
     "iopub.status.idle": "2021-04-04T08:52:03.141459Z",
     "shell.execute_reply": "2021-04-04T08:52:03.140871Z"
    },
    "papermill": {
     "duration": 0.115247,
     "end_time": "2021-04-04T08:52:03.141588",
     "exception": false,
     "start_time": "2021-04-04T08:52:03.026341",
     "status": "completed"
    },
    "tags": []
   },
   "outputs": [
    {
     "name": "stdout",
     "output_type": "stream",
     "text": [
      "{'loss': 0.21975568004979773, 'params': {'max_depth': 17, 'max_features': 'log2', 'max_leaf_nodes': 73, 'n_estimators': 33}, 'status': 'ok'}\n",
      "\n",
      "{'loss': 0.21749823161587867, 'params': {'max_depth': 6, 'max_features': 'log2', 'max_leaf_nodes': 92, 'n_estimators': 486}, 'status': 'ok'}\n",
      "\n",
      "{'loss': 0.2042453951277481, 'params': {'max_depth': 24, 'max_features': 'sqrt', 'max_leaf_nodes': 124, 'n_estimators': 939}, 'status': 'ok'}\n",
      "\n",
      "{'loss': 0.20355020796197276, 'params': {'max_depth': 40, 'max_features': 'log2', 'max_leaf_nodes': 97, 'n_estimators': 932}, 'status': 'ok'}\n",
      "\n",
      "{'loss': 0.20896273660979536, 'params': {'max_depth': 14, 'max_features': 'log2', 'max_leaf_nodes': 127, 'n_estimators': 855}, 'status': 'ok'}\n",
      "\n",
      "{'loss': 0.23376255552726144, 'params': {'max_depth': 4, 'max_features': 'auto', 'max_leaf_nodes': 19, 'n_estimators': 584}, 'status': 'ok'}\n",
      "\n",
      "{'loss': 0.23644781144781146, 'params': {'max_depth': 4, 'max_features': 'auto', 'max_leaf_nodes': 92, 'n_estimators': 55}, 'status': 'ok'}\n",
      "\n",
      "{'loss': 0.22739665563194988, 'params': {'max_depth': 36, 'max_features': 'auto', 'max_leaf_nodes': 143, 'n_estimators': 43}, 'status': 'ok'}\n",
      "\n",
      "{'loss': 0.2089550971903914, 'params': {'max_depth': 31, 'max_features': 'log2', 'max_leaf_nodes': 81, 'n_estimators': 573}, 'status': 'ok'}\n",
      "\n",
      "{'loss': 0.21304445010327355, 'params': {'max_depth': 21, 'max_features': 'sqrt', 'max_leaf_nodes': 19, 'n_estimators': 978}, 'status': 'ok'}\n",
      "\n",
      "{'loss': 0.21616133322015685, 'params': {'max_depth': 7, 'max_features': 'log2', 'max_leaf_nodes': 92, 'n_estimators': 636}, 'status': 'ok'}\n",
      "\n",
      "{'loss': 0.23138287638287636, 'params': {'max_depth': 4, 'max_features': 'auto', 'max_leaf_nodes': 136, 'n_estimators': 625}, 'status': 'ok'}\n",
      "\n",
      "{'loss': 0.21779008573126224, 'params': {'max_depth': 46, 'max_features': 'auto', 'max_leaf_nodes': 99, 'n_estimators': 110}, 'status': 'ok'}\n",
      "\n",
      "{'loss': 0.20993138669609268, 'params': {'max_depth': 49, 'max_features': 'sqrt', 'max_leaf_nodes': 27, 'n_estimators': 934}, 'status': 'ok'}\n",
      "\n",
      "{'loss': 0.21330037065331187, 'params': {'max_depth': 5, 'max_features': 'sqrt', 'max_leaf_nodes': 56, 'n_estimators': 958}, 'status': 'ok'}\n",
      "\n",
      "{'loss': 0.2896539625951391, 'params': {'max_depth': 1, 'max_features': 'log2', 'max_leaf_nodes': 133, 'n_estimators': 367}, 'status': 'ok'}\n",
      "\n",
      "{'loss': 0.20577936224995041, 'params': {'max_depth': 24, 'max_features': 'log2', 'max_leaf_nodes': 74, 'n_estimators': 389}, 'status': 'ok'}\n",
      "\n",
      "{'loss': 0.2150841750841751, 'params': {'max_depth': 13, 'max_features': 'auto', 'max_leaf_nodes': 75, 'n_estimators': 378}, 'status': 'ok'}\n",
      "\n",
      "{'loss': 0.2028588405058993, 'params': {'max_depth': 48, 'max_features': 'sqrt', 'max_leaf_nodes': 146, 'n_estimators': 961}, 'status': 'ok'}\n",
      "\n",
      "{'loss': 0.2026411170528818, 'params': {'max_depth': 39, 'max_features': 'auto', 'max_leaf_nodes': 103, 'n_estimators': 416}, 'status': 'ok'}\n",
      "\n",
      "{'loss': 0.20779008573126223, 'params': {'max_depth': 39, 'max_features': 'sqrt', 'max_leaf_nodes': 103, 'n_estimators': 566}, 'status': 'ok'}\n",
      "\n",
      "{'loss': 0.2339978213507624, 'params': {'max_depth': 2, 'max_features': 'sqrt', 'max_leaf_nodes': 146, 'n_estimators': 730}, 'status': 'ok'}\n",
      "\n",
      "{'loss': 0.2000055173584585, 'params': {'max_depth': 48, 'max_features': 'auto', 'max_leaf_nodes': 107, 'n_estimators': 569}, 'status': 'ok'}\n",
      "\n",
      "{'loss': 0.20376793141499028, 'params': {'max_depth': 26, 'max_features': 'auto', 'max_leaf_nodes': 77, 'n_estimators': 337}, 'status': 'ok'}\n",
      "\n",
      "{'loss': 0.21225150666327142, 'params': {'max_depth': 23, 'max_features': 'auto', 'max_leaf_nodes': 147, 'n_estimators': 139}, 'status': 'ok'}\n",
      "\n",
      "{'loss': 0.22865942336530576, 'params': {'max_depth': 42, 'max_features': 'auto', 'max_leaf_nodes': 12, 'n_estimators': 481}, 'status': 'ok'}\n",
      "\n",
      "{'loss': 0.21213917890388478, 'params': {'max_depth': 39, 'max_features': 'auto', 'max_leaf_nodes': 45, 'n_estimators': 703}, 'status': 'ok'}\n",
      "\n",
      "{'loss': 0.20592988710635773, 'params': {'max_depth': 48, 'max_features': 'auto', 'max_leaf_nodes': 140, 'n_estimators': 871}, 'status': 'ok'}\n",
      "\n",
      "{'loss': 0.20207961972667854, 'params': {'max_depth': 10, 'max_features': 'auto', 'max_leaf_nodes': 107, 'n_estimators': 346}, 'status': 'ok'}\n",
      "\n",
      "{'loss': 0.21008573126220198, 'params': {'max_depth': 11, 'max_features': 'auto', 'max_leaf_nodes': 112, 'n_estimators': 358}, 'status': 'ok'}\n",
      "\n",
      "{'loss': 0.2071865715983363, 'params': {'max_depth': 10, 'max_features': 'auto', 'max_leaf_nodes': 137, 'n_estimators': 177}, 'status': 'ok'}\n",
      "\n",
      "{'loss': 0.20809566250742728, 'params': {'max_depth': 45, 'max_features': 'auto', 'max_leaf_nodes': 120, 'n_estimators': 497}, 'status': 'ok'}\n",
      "\n",
      "{'loss': 0.20428741193447075, 'params': {'max_depth': 18, 'max_features': 'auto', 'max_leaf_nodes': 115, 'n_estimators': 946}, 'status': 'ok'}\n",
      "\n",
      "{'loss': 0.21135995812466402, 'params': {'max_depth': 8, 'max_features': 'auto', 'max_leaf_nodes': 35, 'n_estimators': 949}, 'status': 'ok'}\n",
      "\n",
      "{'loss': 0.2101697648756472, 'params': {'max_depth': 16, 'max_features': 'auto', 'max_leaf_nodes': 139, 'n_estimators': 564}, 'status': 'ok'}\n",
      "\n",
      "{'loss': 0.20550207961972666, 'params': {'max_depth': 28, 'max_features': 'auto', 'max_leaf_nodes': 107, 'n_estimators': 226}, 'status': 'ok'}\n",
      "\n",
      "{'loss': 0.20175268087032783, 'params': {'max_depth': 12, 'max_features': 'log2', 'max_leaf_nodes': 119, 'n_estimators': 150}, 'status': 'ok'}\n",
      "\n",
      "{'loss': 0.20437526525761818, 'params': {'max_depth': 44, 'max_features': 'log2', 'max_leaf_nodes': 114, 'n_estimators': 116}, 'status': 'ok'}\n",
      "\n",
      "{'loss': 0.2066464363523186, 'params': {'max_depth': 12, 'max_features': 'log2', 'max_leaf_nodes': 72, 'n_estimators': 928}, 'status': 'ok'}\n",
      "\n",
      "{'loss': 0.20973813767931415, 'params': {'max_depth': 37, 'max_features': 'log2', 'max_leaf_nodes': 86, 'n_estimators': 822}, 'status': 'ok'}\n",
      "\n",
      "{'loss': 0.20643253260900318, 'params': {'max_depth': 47, 'max_features': 'log2', 'max_leaf_nodes': 89, 'n_estimators': 569}, 'status': 'ok'}\n",
      "\n",
      "{'loss': 0.209302690773279, 'params': {'max_depth': 33, 'max_features': 'log2', 'max_leaf_nodes': 93, 'n_estimators': 611}, 'status': 'ok'}\n",
      "\n",
      "{'loss': 0.20634467928585576, 'params': {'max_depth': 34, 'max_features': 'log2', 'max_leaf_nodes': 87, 'n_estimators': 872}, 'status': 'ok'}\n",
      "\n",
      "{'loss': 0.2055272614096143, 'params': {'max_depth': 35, 'max_features': 'log2', 'max_leaf_nodes': 98, 'n_estimators': 297}, 'status': 'ok'}\n",
      "\n",
      "{'loss': 0.2016441728206434, 'params': {'max_depth': 12, 'max_features': 'log2', 'max_leaf_nodes': 119, 'n_estimators': 387}, 'status': 'ok'}\n",
      "\n",
      "{'loss': 0.2303232606173784, 'params': {'max_depth': 3, 'max_features': 'log2', 'max_leaf_nodes': 79, 'n_estimators': 460}, 'status': 'ok'}\n",
      "\n",
      "{'loss': 0.21430113459525235, 'params': {'max_depth': 43, 'max_features': 'sqrt', 'max_leaf_nodes': 29, 'n_estimators': 162}, 'status': 'ok'}\n",
      "\n",
      "{'loss': 0.20679696120872593, 'params': {'max_depth': 27, 'max_features': 'log2', 'max_leaf_nodes': 91, 'n_estimators': 778}, 'status': 'ok'}\n",
      "\n",
      "{'loss': 0.20333630421865723, 'params': {'max_depth': 38, 'max_features': 'sqrt', 'max_leaf_nodes': 130, 'n_estimators': 648}, 'status': 'ok'}\n",
      "\n",
      "{'loss': 0.2087908496732026, 'params': {'max_depth': 19, 'max_features': 'log2', 'max_leaf_nodes': 148, 'n_estimators': 273}, 'status': 'ok'}\n",
      "\n",
      "{'loss': 0.2015853209970857, 'params': {'max_depth': 15, 'max_features': 'log2', 'max_leaf_nodes': 116, 'n_estimators': 94}, 'status': 'ok'}\n",
      "\n",
      "{'loss': 0.2083133859604448, 'params': {'max_depth': 22, 'max_features': 'sqrt', 'max_leaf_nodes': 116, 'n_estimators': 483}, 'status': 'ok'}\n",
      "\n",
      "{'loss': 0.20389780154486037, 'params': {'max_depth': 41, 'max_features': 'log2', 'max_leaf_nodes': 113, 'n_estimators': 823}, 'status': 'ok'}\n",
      "\n",
      "{'loss': 0.2027671674730499, 'params': {'max_depth': 9, 'max_features': 'sqrt', 'max_leaf_nodes': 132, 'n_estimators': 94}, 'status': 'ok'}\n",
      "\n",
      "{'loss': 0.21505899329428746, 'params': {'max_depth': 30, 'max_features': 'log2', 'max_leaf_nodes': 134, 'n_estimators': 91}, 'status': 'ok'}\n",
      "\n",
      "{'loss': 0.20997340350281535, 'params': {'max_depth': 29, 'max_features': 'auto', 'max_leaf_nodes': 40, 'n_estimators': 595}, 'status': 'ok'}\n",
      "\n",
      "{'loss': 0.19861896273660984, 'params': {'max_depth': 32, 'max_features': 'sqrt', 'max_leaf_nodes': 128, 'n_estimators': 905}, 'status': 'ok'}\n",
      "\n",
      "{'loss': 0.2044386441445265, 'params': {'max_depth': 32, 'max_features': 'sqrt', 'max_leaf_nodes': 50, 'n_estimators': 905}, 'status': 'ok'}\n",
      "\n",
      "{'loss': 0.20666709107885584, 'params': {'max_depth': 32, 'max_features': 'sqrt', 'max_leaf_nodes': 128, 'n_estimators': 841}, 'status': 'ok'}\n",
      "\n",
      "{'loss': 0.20699402993520644, 'params': {'max_depth': 17, 'max_features': 'sqrt', 'max_leaf_nodes': 58, 'n_estimators': 334}, 'status': 'ok'}\n",
      "\n",
      "{'loss': 0.2106892453951278, 'params': {'max_depth': 20, 'max_features': 'sqrt', 'max_leaf_nodes': 94, 'n_estimators': 699}, 'status': 'ok'}\n",
      "\n",
      "{'loss': 0.20895891690009338, 'params': {'max_depth': 14, 'max_features': 'sqrt', 'max_leaf_nodes': 84, 'n_estimators': 11}, 'status': 'ok'}\n",
      "\n",
      "{'loss': 0.21252496958379308, 'params': {'max_depth': 6, 'max_features': 'sqrt', 'max_leaf_nodes': 42, 'n_estimators': 755}, 'status': 'ok'}\n",
      "\n",
      "{'loss': 0.21105438134849908, 'params': {'max_depth': 25, 'max_features': 'sqrt', 'max_leaf_nodes': 24, 'n_estimators': 342}, 'status': 'ok'}\n",
      "\n",
      "{'loss': 0.20768921710098187, 'params': {'max_depth': 40, 'max_features': 'auto', 'max_leaf_nodes': 68, 'n_estimators': 67}, 'status': 'ok'}\n",
      "\n",
      "{'loss': 0.22182596270831556, 'params': {'max_depth': 15, 'max_features': 'sqrt', 'max_leaf_nodes': 16, 'n_estimators': 499}, 'status': 'ok'}\n",
      "\n",
      "{'loss': 0.1999848626319215, 'params': {'max_depth': 15, 'max_features': 'auto', 'max_leaf_nodes': 60, 'n_estimators': 773}, 'status': 'ok'}\n",
      "\n",
      "{'loss': 0.20937370907959152, 'params': {'max_depth': 36, 'max_features': 'auto', 'max_leaf_nodes': 60, 'n_estimators': 239}, 'status': 'ok'}\n",
      "\n",
      "{'loss': 0.19788557847381372, 'params': {'max_depth': 48, 'max_features': 'auto', 'max_leaf_nodes': 128, 'n_estimators': 397}, 'status': 'ok'}\n",
      "\n",
      "{'loss': 0.2002652576181989, 'params': {'max_depth': 31, 'max_features': 'auto', 'max_leaf_nodes': 128, 'n_estimators': 396}, 'status': 'ok'}\n",
      "\n",
      "{'loss': 0.20732945703533945, 'params': {'max_depth': 49, 'max_features': 'auto', 'max_leaf_nodes': 85, 'n_estimators': 158}, 'status': 'ok'}\n",
      "\n",
      "{'loss': 0.2128725631666809, 'params': {'max_depth': 48, 'max_features': 'auto', 'max_leaf_nodes': 33, 'n_estimators': 583}, 'status': 'ok'}\n",
      "\n",
      "{'loss': 0.23259754406813227, 'params': {'max_depth': 46, 'max_features': 'auto', 'max_leaf_nodes': 11, 'n_estimators': 504}, 'status': 'ok'}\n",
      "\n",
      "{'loss': 0.21836530571824686, 'params': {'max_depth': 5, 'max_features': 'auto', 'max_leaf_nodes': 128, 'n_estimators': 420}, 'status': 'ok'}\n",
      "\n",
      "{'loss': 0.26725985343632397, 'params': {'max_depth': 1, 'max_features': 'auto', 'max_leaf_nodes': 53, 'n_estimators': 718}, 'status': 'ok'}\n",
      "\n",
      "{'loss': 0.21073890162125442, 'params': {'max_depth': 21, 'max_features': 'auto', 'max_leaf_nodes': 123, 'n_estimators': 192}, 'status': 'ok'}\n",
      "\n",
      "{'loss': 0.20525606202076785, 'params': {'max_depth': 7, 'max_features': 'auto', 'max_leaf_nodes': 101, 'n_estimators': 63}, 'status': 'ok'}\n",
      "\n",
      "{'loss': 0.21490464872817827, 'params': {'max_depth': 13, 'max_features': 'auto', 'max_leaf_nodes': 22, 'n_estimators': 888}, 'status': 'ok'}\n",
      "\n",
      "{'loss': 0.236302662479133, 'params': {'max_depth': 2, 'max_features': 'sqrt', 'max_leaf_nodes': 23, 'n_estimators': 512}, 'status': 'ok'}\n",
      "\n",
      "{'loss': 0.20872435843024073, 'params': {'max_depth': 24, 'max_features': 'auto', 'max_leaf_nodes': 34, 'n_estimators': 393}, 'status': 'ok'}\n",
      "\n",
      "{'loss': 0.21382749059219652, 'params': {'max_depth': 42, 'max_features': 'auto', 'max_leaf_nodes': 59, 'n_estimators': 93}, 'status': 'ok'}\n",
      "\n",
      "{'loss': 0.22991228814758224, 'params': {'max_depth': 4, 'max_features': 'sqrt', 'max_leaf_nodes': 95, 'n_estimators': 243}, 'status': 'ok'}\n",
      "\n",
      "{'loss': 0.2078993011345952, 'params': {'max_depth': 26, 'max_features': 'auto', 'max_leaf_nodes': 41, 'n_estimators': 685}, 'status': 'ok'}\n",
      "\n",
      "{'loss': 0.20740047534165185, 'params': {'max_depth': 15, 'max_features': 'sqrt', 'max_leaf_nodes': 88, 'n_estimators': 316}, 'status': 'ok'}\n",
      "\n",
      "{'loss': 0.20902158843335306, 'params': {'max_depth': 23, 'max_features': 'auto', 'max_leaf_nodes': 126, 'n_estimators': 252}, 'status': 'ok'}\n",
      "\n",
      "{'loss': 0.21581373963726902, 'params': {'max_depth': 32, 'max_features': 'auto', 'max_leaf_nodes': 28, 'n_estimators': 773}, 'status': 'ok'}\n",
      "\n",
      "{'loss': 0.20612313612313604, 'params': {'max_depth': 18, 'max_features': 'sqrt', 'max_leaf_nodes': 44, 'n_estimators': 762}, 'status': 'ok'}\n",
      "\n",
      "{'loss': 0.2082889115242057, 'params': {'max_depth': 8, 'max_features': 'auto', 'max_leaf_nodes': 125, 'n_estimators': 960}, 'status': 'ok'}\n",
      "\n",
      "{'loss': 0.20582519876637528, 'params': {'max_depth': 45, 'max_features': 'sqrt', 'max_leaf_nodes': 60, 'n_estimators': 164}, 'status': 'ok'}\n",
      "\n",
      "{'loss': 0.22269303681068375, 'params': {'max_depth': 48, 'max_features': 'auto', 'max_leaf_nodes': 15, 'n_estimators': 445}, 'status': 'ok'}\n",
      "\n",
      "{'loss': 0.20391916362504603, 'params': {'max_depth': 28, 'max_features': 'auto', 'max_leaf_nodes': 57, 'n_estimators': 490}, 'status': 'ok'}\n",
      "\n",
      "{'loss': 0.2053683897801546, 'params': {'max_depth': 11, 'max_features': 'sqrt', 'max_leaf_nodes': 90, 'n_estimators': 345}, 'status': 'ok'}\n",
      "\n",
      "{'loss': 0.23298715445774265, 'params': {'max_depth': 16, 'max_features': 'auto', 'max_leaf_nodes': 13, 'n_estimators': 994}, 'status': 'ok'}\n",
      "\n",
      "{'loss': 0.20978015448603693, 'params': {'max_depth': 37, 'max_features': 'sqrt', 'max_leaf_nodes': 82, 'n_estimators': 647}, 'status': 'ok'}\n",
      "\n",
      "{'loss': 0.20173584585349302, 'params': {'max_depth': 33, 'max_features': 'auto', 'max_leaf_nodes': 121, 'n_estimators': 251}, 'status': 'ok'}\n",
      "\n",
      "{'loss': 0.20388096652802534, 'params': {'max_depth': 34, 'max_features': 'sqrt', 'max_leaf_nodes': 83, 'n_estimators': 577}, 'status': 'ok'}\n",
      "\n",
      "{'loss': 0.20705288175876413, 'params': {'max_depth': 43, 'max_features': 'auto', 'max_leaf_nodes': 71, 'n_estimators': 42}, 'status': 'ok'}\n",
      "\n",
      "{'loss': 0.20956625074272128, 'params': {'max_depth': 35, 'max_features': 'sqrt', 'max_leaf_nodes': 149, 'n_estimators': 802}, 'status': 'ok'}\n",
      "\n",
      "{'loss': 0.22796041648982823, 'params': {'max_depth': 3, 'max_features': 'auto', 'max_leaf_nodes': 63, 'n_estimators': 534}, 'status': 'ok'}\n",
      "\n",
      "{'loss': 0.21032481679540505, 'params': {'max_depth': 27, 'max_features': 'auto', 'max_leaf_nodes': 64, 'n_estimators': 412}, 'status': 'ok'}\n",
      "\n"
     ]
    },
    {
     "data": {
      "text/plain": [
       "[None,\n",
       " None,\n",
       " None,\n",
       " None,\n",
       " None,\n",
       " None,\n",
       " None,\n",
       " None,\n",
       " None,\n",
       " None,\n",
       " None,\n",
       " None,\n",
       " None,\n",
       " None,\n",
       " None,\n",
       " None,\n",
       " None,\n",
       " None,\n",
       " None,\n",
       " None,\n",
       " None,\n",
       " None,\n",
       " None,\n",
       " None,\n",
       " None,\n",
       " None,\n",
       " None,\n",
       " None,\n",
       " None,\n",
       " None,\n",
       " None,\n",
       " None,\n",
       " None,\n",
       " None,\n",
       " None,\n",
       " None,\n",
       " None,\n",
       " None,\n",
       " None,\n",
       " None,\n",
       " None,\n",
       " None,\n",
       " None,\n",
       " None,\n",
       " None,\n",
       " None,\n",
       " None,\n",
       " None,\n",
       " None,\n",
       " None,\n",
       " None,\n",
       " None,\n",
       " None,\n",
       " None,\n",
       " None,\n",
       " None,\n",
       " None,\n",
       " None,\n",
       " None,\n",
       " None,\n",
       " None,\n",
       " None,\n",
       " None,\n",
       " None,\n",
       " None,\n",
       " None,\n",
       " None,\n",
       " None,\n",
       " None,\n",
       " None,\n",
       " None,\n",
       " None,\n",
       " None,\n",
       " None,\n",
       " None,\n",
       " None,\n",
       " None,\n",
       " None,\n",
       " None,\n",
       " None,\n",
       " None,\n",
       " None,\n",
       " None,\n",
       " None,\n",
       " None,\n",
       " None,\n",
       " None,\n",
       " None,\n",
       " None,\n",
       " None,\n",
       " None,\n",
       " None,\n",
       " None,\n",
       " None,\n",
       " None,\n",
       " None,\n",
       " None,\n",
       " None,\n",
       " None,\n",
       " None]"
      ]
     },
     "execution_count": 57,
     "metadata": {},
     "output_type": "execute_result"
    }
   ],
   "source": [
    "[print(t['result'],end = '\\n\\n') for t in bayes_trial.trials]"
   ]
  },
  {
   "cell_type": "code",
   "execution_count": 58,
   "id": "affiliated-glory",
   "metadata": {
    "execution": {
     "iopub.execute_input": "2021-04-04T08:52:03.359536Z",
     "iopub.status.busy": "2021-04-04T08:52:03.358882Z",
     "iopub.status.idle": "2021-04-04T08:52:03.362081Z",
     "shell.execute_reply": "2021-04-04T08:52:03.361429Z"
    },
    "papermill": {
     "duration": 0.124178,
     "end_time": "2021-04-04T08:52:03.362213",
     "exception": false,
     "start_time": "2021-04-04T08:52:03.238035",
     "status": "completed"
    },
    "tags": []
   },
   "outputs": [],
   "source": [
    "from hyperopt import space_eval\n",
    "params = space_eval(space,best)    # These are the best parameters"
   ]
  },
  {
   "cell_type": "code",
   "execution_count": 59,
   "id": "intellectual-anderson",
   "metadata": {
    "execution": {
     "iopub.execute_input": "2021-04-04T08:52:03.560694Z",
     "iopub.status.busy": "2021-04-04T08:52:03.560026Z",
     "iopub.status.idle": "2021-04-04T08:52:03.562845Z",
     "shell.execute_reply": "2021-04-04T08:52:03.562120Z"
    },
    "papermill": {
     "duration": 0.103668,
     "end_time": "2021-04-04T08:52:03.562971",
     "exception": false,
     "start_time": "2021-04-04T08:52:03.459303",
     "status": "completed"
    },
    "tags": []
   },
   "outputs": [],
   "source": [
    "Best_model = RandomForestClassifier(**params,n_jobs = -1)"
   ]
  },
  {
   "cell_type": "code",
   "execution_count": 60,
   "id": "established-domestic",
   "metadata": {
    "execution": {
     "iopub.execute_input": "2021-04-04T08:52:03.762089Z",
     "iopub.status.busy": "2021-04-04T08:52:03.761355Z",
     "iopub.status.idle": "2021-04-04T08:52:09.806267Z",
     "shell.execute_reply": "2021-04-04T08:52:09.806805Z"
    },
    "papermill": {
     "duration": 6.145868,
     "end_time": "2021-04-04T08:52:09.807002",
     "exception": false,
     "start_time": "2021-04-04T08:52:03.661134",
     "status": "completed"
    },
    "tags": []
   },
   "outputs": [
    {
     "data": {
      "image/png": "[encoded data removed]",
      "text/plain": [
       "<Figure size 288x288 with 1 Axes>"
      ]
     },
     "metadata": {
      "needs_background": "light"
     },
     "output_type": "display_data"
    }
   ],
   "source": [
    "# Lets calculate the Confusion matrix and See hows the result\n",
    "from sklearn.model_selection import cross_val_predict\n",
    "from sklearn.metrics import confusion_matrix\n",
    "\n",
    "Y_train_predict = cross_val_predict(Best_model,train,Labels,cv = 10,n_jobs=-1)\n",
    "Conf = confusion_matrix(Labels,Y_train_predict)\n",
    "# Lets plot it pictorially to see whats happening\n",
    "rowsum = Conf.sum(axis = 1,keepdims = True)\n",
    "norm_Conf = Conf/rowsum\n",
    "\n",
    "# Lets fill dignol with zeros\n",
    "np.fill_diagonal(norm_Conf,0)\n",
    "plt.matshow(norm_Conf,cmap = plt.cm.gray)\n",
    "plt.xlabel(\"Predicted\")\n",
    "plt.ylabel(\"Actual\")\n",
    "plt.show()\n",
    "\n",
    "# The model is confusing more in cases of 1"
   ]
  },
  {
   "cell_type": "code",
   "execution_count": 61,
   "id": "impressed-barcelona",
   "metadata": {
    "execution": {
     "iopub.execute_input": "2021-04-04T08:52:10.007586Z",
     "iopub.status.busy": "2021-04-04T08:52:10.006986Z",
     "iopub.status.idle": "2021-04-04T08:52:11.409768Z",
     "shell.execute_reply": "2021-04-04T08:52:11.409220Z"
    },
    "papermill": {
     "duration": 1.503668,
     "end_time": "2021-04-04T08:52:11.409907",
     "exception": false,
     "start_time": "2021-04-04T08:52:09.906239",
     "status": "completed"
    },
    "tags": []
   },
   "outputs": [],
   "source": [
    "# Lets do Prediction on Test Set\n",
    "Best_model.fit(train,Labels)\n",
    "Prediction = Best_model.predict(test)"
   ]
  },
  {
   "cell_type": "code",
   "execution_count": 62,
   "id": "neither-champion",
   "metadata": {
    "execution": {
     "iopub.execute_input": "2021-04-04T08:52:11.613947Z",
     "iopub.status.busy": "2021-04-04T08:52:11.613146Z",
     "iopub.status.idle": "2021-04-04T08:52:11.616103Z",
     "shell.execute_reply": "2021-04-04T08:52:11.615590Z"
    },
    "papermill": {
     "duration": 0.108415,
     "end_time": "2021-04-04T08:52:11.616247",
     "exception": false,
     "start_time": "2021-04-04T08:52:11.507832",
     "status": "completed"
    },
    "tags": []
   },
   "outputs": [],
   "source": [
    "Result_Output = np.hstack((np.array(test_Passengerid).reshape(-1,1),np.array(Prediction).reshape(-1,1).astype(np.int)))\n",
    "Result_Output = pd.DataFrame(Result_Output,columns = ['PassengerId','Survived'])"
   ]
  },
  {
   "cell_type": "code",
   "execution_count": 63,
   "id": "intended-oriental",
   "metadata": {
    "execution": {
     "iopub.execute_input": "2021-04-04T08:52:11.823965Z",
     "iopub.status.busy": "2021-04-04T08:52:11.823056Z",
     "iopub.status.idle": "2021-04-04T08:52:11.827360Z",
     "shell.execute_reply": "2021-04-04T08:52:11.826770Z"
    },
    "papermill": {
     "duration": 0.114194,
     "end_time": "2021-04-04T08:52:11.827492",
     "exception": false,
     "start_time": "2021-04-04T08:52:11.713298",
     "status": "completed"
    },
    "tags": []
   },
   "outputs": [
    {
     "data": {
      "text/html": [
       "<div>\n",
       "<style scoped>\n",
       "    .dataframe tbody tr th:only-of-type {\n",
       "        vertical-align: middle;\n",
       "    }\n",
       "\n",
       "    .dataframe tbody tr th {\n",
       "        vertical-align: top;\n",
       "    }\n",
       "\n",
       "    .dataframe thead th {\n",
       "        text-align: right;\n",
       "    }\n",
       "</style>\n",
       "<table border=\"1\" class=\"dataframe\">\n",
       "  <thead>\n",
       "    <tr style=\"text-align: right;\">\n",
       "      <th></th>\n",
       "      <th>PassengerId</th>\n",
       "      <th>Survived</th>\n",
       "    </tr>\n",
       "  </thead>\n",
       "  <tbody>\n",
       "    <tr>\n",
       "      <th>0</th>\n",
       "      <td>892</td>\n",
       "      <td>0</td>\n",
       "    </tr>\n",
       "    <tr>\n",
       "      <th>1</th>\n",
       "      <td>893</td>\n",
       "      <td>0</td>\n",
       "    </tr>\n",
       "    <tr>\n",
       "      <th>2</th>\n",
       "      <td>894</td>\n",
       "      <td>0</td>\n",
       "    </tr>\n",
       "    <tr>\n",
       "      <th>3</th>\n",
       "      <td>895</td>\n",
       "      <td>0</td>\n",
       "    </tr>\n",
       "    <tr>\n",
       "      <th>4</th>\n",
       "      <td>896</td>\n",
       "      <td>0</td>\n",
       "    </tr>\n",
       "    <tr>\n",
       "      <th>5</th>\n",
       "      <td>897</td>\n",
       "      <td>0</td>\n",
       "    </tr>\n",
       "    <tr>\n",
       "      <th>6</th>\n",
       "      <td>898</td>\n",
       "      <td>1</td>\n",
       "    </tr>\n",
       "    <tr>\n",
       "      <th>7</th>\n",
       "      <td>899</td>\n",
       "      <td>0</td>\n",
       "    </tr>\n",
       "    <tr>\n",
       "      <th>8</th>\n",
       "      <td>900</td>\n",
       "      <td>1</td>\n",
       "    </tr>\n",
       "    <tr>\n",
       "      <th>9</th>\n",
       "      <td>901</td>\n",
       "      <td>0</td>\n",
       "    </tr>\n",
       "  </tbody>\n",
       "</table>\n",
       "</div>"
      ],
      "text/plain": [
       "   PassengerId  Survived\n",
       "0          892         0\n",
       "1          893         0\n",
       "2          894         0\n",
       "3          895         0\n",
       "4          896         0\n",
       "5          897         0\n",
       "6          898         1\n",
       "7          899         0\n",
       "8          900         1\n",
       "9          901         0"
      ]
     },
     "execution_count": 63,
     "metadata": {},
     "output_type": "execute_result"
    }
   ],
   "source": [
    "Result_Output.head(10)"
   ]
  },
  {
   "cell_type": "code",
   "execution_count": 64,
   "id": "meaningful-banana",
   "metadata": {
    "execution": {
     "iopub.execute_input": "2021-04-04T08:52:12.030860Z",
     "iopub.status.busy": "2021-04-04T08:52:12.030094Z",
     "iopub.status.idle": "2021-04-04T08:52:12.036990Z",
     "shell.execute_reply": "2021-04-04T08:52:12.036411Z"
    },
    "papermill": {
     "duration": 0.109792,
     "end_time": "2021-04-04T08:52:12.037126",
     "exception": false,
     "start_time": "2021-04-04T08:52:11.927334",
     "status": "completed"
    },
    "tags": []
   },
   "outputs": [],
   "source": [
    "Result_Output.to_csv(\"Prediction.csv\",index=False)"
   ]
  }
 ],
 "metadata": {
  "kernelspec": {
   "display_name": "Python 3",
   "language": "python",
   "name": "python3"
  },
  "language_info": {
   "codemirror_mode": {
    "name": "ipython",
    "version": 3
   },
   "file_extension": ".py",
   "mimetype": "text/x-python",
   "name": "python",
   "nbconvert_exporter": "python",
   "pygments_lexer": "ipython3",
   "version": "3.7.9"
  },
  "papermill": {
   "default_parameters": {},
   "duration": 729.048899,
   "end_time": "2021-04-04T08:52:14.136389",
   "environment_variables": {},
   "exception": null,
   "input_path": "__notebook__.ipynb",
   "output_path": "__notebook__.ipynb",
   "parameters": {},
   "start_time": "2021-04-04T08:40:05.087490",
   "version": "2.3.2"
  }
 },
 "nbformat": 4,
 "nbformat_minor": 5
}
